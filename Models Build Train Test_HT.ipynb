{
 "cells": [
  {
   "cell_type": "code",
   "execution_count": 1,
   "metadata": {},
   "outputs": [],
   "source": [
    " #set working directory\n",
    "import os \n",
    "os.chdir('D:/DSC672_PAC/Final_Project/FinalFiles')\n",
    "# \\ is for Jupyter tensorflow notebook, / is for regular Jupyter notebook\n",
    "#os.chdir('C:\\\\Users\\\\htran12\\\\Downloads')"
   ]
  },
  {
   "cell_type": "code",
   "execution_count": 2,
   "metadata": {},
   "outputs": [
    {
     "name": "stderr",
     "output_type": "stream",
     "text": [
      "Using TensorFlow backend.\n"
     ]
    }
   ],
   "source": [
    "import math\n",
    "from math import sqrt\n",
    "\n",
    "#numpy \n",
    "import numpy as np\n",
    "from numpy import concatenate\n",
    "\n",
    "#pandas\n",
    "import pandas as pd\n",
    "from pandas import to_datetime\n",
    "from pandas import read_csv\n",
    "from pandas import DataFrame\n",
    "from pandas import concat\n",
    "\n",
    "#matplotlib\n",
    "from matplotlib import pyplot\n",
    "\n",
    "#scipy\n",
    "from scipy import stats\n",
    "\n",
    "#sklearn\n",
    "from sklearn import preprocessing\n",
    "from sklearn.preprocessing import MinMaxScaler\n",
    "from sklearn.preprocessing import StandardScaler\n",
    "from sklearn.preprocessing import scale\n",
    "from sklearn.metrics import mean_squared_error\n",
    "from sklearn.model_selection import train_test_split\n",
    "from sklearn.model_selection import cross_validate, GridSearchCV\n",
    "from sklearn.feature_selection import RFE, VarianceThreshold, SelectFromModel\n",
    "from sklearn.linear_model import Lasso\n",
    "\n",
    "from sklearn.tree import DecisionTreeRegressor\n",
    "from sklearn.svm import SVR\n",
    "from sklearn.ensemble import RandomForestRegressor, BaggingRegressor\n",
    "from sklearn.ensemble import GradientBoostingRegressor, AdaBoostRegressor\n",
    "from sklearn.neural_network import MLPRegressor\n",
    "from sklearn.externals import joblib\n",
    "from sklearn.cluster import KMeans\n",
    "from sklearn import metrics\n",
    "\n",
    "#keras\n",
    "from keras.models import Sequential\n",
    "from keras.layers import Dense, Dropout, Flatten\n",
    "from keras.layers import Conv2D, MaxPooling2D\n",
    "from keras.layers import Embedding\n",
    "from keras.layers import LSTM, GRU\n",
    "\n",
    "#xgboost\n",
    "import xgboost as xgb\n",
    "\n",
    "#plotly\n",
    "import plotly.express as px\n",
    "import plotly.graph_objects as go\n",
    "\n",
    "#time\n",
    "import time\n",
    "\n",
    "#seaborn\n",
    "#import seaborn as sns"
   ]
  },
  {
   "cell_type": "code",
   "execution_count": 3,
   "metadata": {},
   "outputs": [],
   "source": [
    "#set numpy print options\n",
    "np.set_printoptions(suppress=True, precision=3, linewidth=120)"
   ]
  },
  {
   "cell_type": "code",
   "execution_count": 4,
   "metadata": {},
   "outputs": [],
   "source": [
    "#import train data sets\n",
    "solar_train = read_csv('solar_train.csv', index_col=False)\n",
    "wind_train = read_csv('wind_train.csv', index_col=False)\n",
    "food_train = read_csv('food_train.csv', index_col=False)\n",
    "groc_train = read_csv('groc_train.csv', index_col=False)\n",
    "heal_train = read_csv('heal_train.csv', index_col=False)\n",
    "k12_train = read_csv('k12_train.csv', index_col=False)\n",
    "lodg_train = read_csv('lodg_train.csv', index_col=False)\n",
    "off_train = read_csv('off_train.csv', index_col=False)\n",
    "res_train = read_csv('res_train.csv', index_col=False)\n",
    "sar_train = read_csv('sar_train.csv', index_col=False)"
   ]
  },
  {
   "cell_type": "code",
   "execution_count": 5,
   "metadata": {},
   "outputs": [],
   "source": [
    "#import test data sets\n",
    "solar_test = read_csv('solar_test.csv', index_col=False)\n",
    "wind_test = read_csv('wind_test.csv', index_col=False)\n",
    "food_test = read_csv('food_test.csv', index_col=False)\n",
    "groc_test = read_csv('groc_test.csv', index_col=False)\n",
    "heal_test = read_csv('heal_test.csv', index_col=False)\n",
    "k12_test = read_csv('k12_test.csv', index_col=False)\n",
    "lodg_test = read_csv('lodg_test.csv', index_col=False)\n",
    "off_test = read_csv('off_test.csv', index_col=False)\n",
    "res_test = read_csv('res_test.csv', index_col=False)\n",
    "sar_test = read_csv('sar_test.csv', index_col=False)"
   ]
  },
  {
   "cell_type": "code",
   "execution_count": 6,
   "metadata": {},
   "outputs": [],
   "source": [
    "#set rand state\n",
    "rand = 3"
   ]
  },
  {
   "cell_type": "markdown",
   "metadata": {},
   "source": [
    "#### ONLY for Neural nets, if not training Neural nets, SKIP to cell after End dashed line"
   ]
  },
  {
   "cell_type": "markdown",
   "metadata": {},
   "source": [
    "#### ------------------------------------------------------------------- Start -------------------------------------------------------------------"
   ]
  },
  {
   "cell_type": "code",
   "execution_count": 92,
   "metadata": {
    "scrolled": true
   },
   "outputs": [
    {
     "name": "stdout",
     "output_type": "stream",
     "text": [
      "Month_1\n",
      "Day_of_week_5\n",
      "Day_of_week_6\n"
     ]
    }
   ],
   "source": [
    "#select features to drop from Wind train/test sets\n",
    "headers = list(heal_train.columns)\n",
    "col_drop = headers[9:46]\n",
    "#col_drop1 = headers[3]\n",
    "#col_drop2 = headers[-4:]\n",
    "#col_drop.append(col_drop1)    #extend() when col_drop1 has more than 1 feature/append() when col_drop1 has 1 feature\n",
    "#col_drop.extend(col_drop2)\n",
    "print(col_drop[0])       #first column to drop\n",
    "print(col_drop[-2])      #second last column to drop\n",
    "print(col_drop[-1])      #last column to drop"
   ]
  },
  {
   "cell_type": "code",
   "execution_count": 93,
   "metadata": {},
   "outputs": [],
   "source": [
    "#drop features\n",
    "heal_tr_nn = heal_train.drop(columns = col_drop)\n",
    "heal_tt_nn = heal_test.drop(columns = col_drop)"
   ]
  },
  {
   "cell_type": "code",
   "execution_count": 94,
   "metadata": {},
   "outputs": [],
   "source": [
    "#convert dataframe to numpy\n",
    "heal_tr_nn = heal_tr_nn.to_numpy(dtype ='float32', copy=True)\n",
    "heal_tt_nn = heal_tt_nn.to_numpy(dtype ='float32', copy=True)"
   ]
  },
  {
   "cell_type": "code",
   "execution_count": 95,
   "metadata": {},
   "outputs": [],
   "source": [
    "#input data and target for train/test\n",
    "heal_x = heal_tr_nn[:,1:] \n",
    "heal_y = heal_tr_nn[:,0]       #target variable\n",
    "\n",
    "heal_tx = heal_tt_nn[:,1:]\n",
    "heal_ty = heal_tt_nn[:,0]      #target variable"
   ]
  },
  {
   "cell_type": "code",
   "execution_count": 96,
   "metadata": {},
   "outputs": [
    {
     "name": "stdout",
     "output_type": "stream",
     "text": [
      "train input: 292\n",
      "train target: 292\n",
      "\n",
      "\n",
      "test input: 73\n",
      "test target: 73\n"
     ]
    }
   ],
   "source": [
    "#check base - Train\n",
    "print('train input:', len(heal_x))\n",
    "print('train target:', len(heal_y))\n",
    "print('\\n')\n",
    "\n",
    "#check base - Test\n",
    "print('test input:', len(heal_tx))\n",
    "print('test target:', len(heal_ty))"
   ]
  },
  {
   "cell_type": "markdown",
   "metadata": {},
   "source": [
    "#### ------------------------------------------------------------------- End -------------------------------------------------------------------"
   ]
  },
  {
   "cell_type": "code",
   "execution_count": 46,
   "metadata": {},
   "outputs": [],
   "source": [
    "#convert pandas frame to numpy frame\n",
    "sar_tr = sar_train.to_numpy(dtype ='float32', copy=True)\n",
    "sar_tt = sar_test.to_numpy(dtype ='float32', copy=True)"
   ]
  },
  {
   "cell_type": "code",
   "execution_count": 21,
   "metadata": {},
   "outputs": [
    {
     "data": {
      "text/html": [
       "<div>\n",
       "<style scoped>\n",
       "    .dataframe tbody tr th:only-of-type {\n",
       "        vertical-align: middle;\n",
       "    }\n",
       "\n",
       "    .dataframe tbody tr th {\n",
       "        vertical-align: top;\n",
       "    }\n",
       "\n",
       "    .dataframe thead th {\n",
       "        text-align: right;\n",
       "    }\n",
       "</style>\n",
       "<table border=\"1\" class=\"dataframe\">\n",
       "  <thead>\n",
       "    <tr style=\"text-align: right;\">\n",
       "      <th></th>\n",
       "      <th>Electricity_KW_AVG</th>\n",
       "      <th>Weekend</th>\n",
       "      <th>Holiday</th>\n",
       "      <th>School_Day</th>\n",
       "      <th>Solar_Elevation_AVG</th>\n",
       "      <th>Cloud_Cover_Fraction_AVG</th>\n",
       "      <th>Dew_Point_AVG</th>\n",
       "      <th>Temperature_AVG</th>\n",
       "      <th>Visibility_AVG</th>\n",
       "      <th>Month_1</th>\n",
       "      <th>...</th>\n",
       "      <th>Day_29</th>\n",
       "      <th>Day_31</th>\n",
       "      <th>Day_of_week_1</th>\n",
       "      <th>Day_of_week_2</th>\n",
       "      <th>Day_of_week_3</th>\n",
       "      <th>Day_of_week_4</th>\n",
       "      <th>Day_of_week_5</th>\n",
       "      <th>Day_of_week_6</th>\n",
       "      <th>Season_Spring</th>\n",
       "      <th>Season_Winter</th>\n",
       "    </tr>\n",
       "  </thead>\n",
       "  <tbody>\n",
       "    <tr>\n",
       "      <th>0</th>\n",
       "      <td>2969.613377</td>\n",
       "      <td>1</td>\n",
       "      <td>0</td>\n",
       "      <td>0</td>\n",
       "      <td>-14.264263</td>\n",
       "      <td>0.270833</td>\n",
       "      <td>-7.075</td>\n",
       "      <td>-2.75</td>\n",
       "      <td>18.033333</td>\n",
       "      <td>0</td>\n",
       "      <td>...</td>\n",
       "      <td>0</td>\n",
       "      <td>0</td>\n",
       "      <td>0</td>\n",
       "      <td>0</td>\n",
       "      <td>0</td>\n",
       "      <td>0</td>\n",
       "      <td>0</td>\n",
       "      <td>0</td>\n",
       "      <td>0</td>\n",
       "      <td>0</td>\n",
       "    </tr>\n",
       "  </tbody>\n",
       "</table>\n",
       "<p>1 rows × 48 columns</p>\n",
       "</div>"
      ],
      "text/plain": [
       "   Electricity_KW_AVG  Weekend  Holiday  School_Day  Solar_Elevation_AVG  \\\n",
       "0         2969.613377        1        0           0           -14.264263   \n",
       "\n",
       "   Cloud_Cover_Fraction_AVG  Dew_Point_AVG  Temperature_AVG  Visibility_AVG  \\\n",
       "0                  0.270833         -7.075            -2.75       18.033333   \n",
       "\n",
       "   Month_1  ...  Day_29  Day_31  Day_of_week_1  Day_of_week_2  Day_of_week_3  \\\n",
       "0        0  ...       0       0              0              0              0   \n",
       "\n",
       "   Day_of_week_4  Day_of_week_5  Day_of_week_6  Season_Spring  Season_Winter  \n",
       "0              0              0              0              0              0  \n",
       "\n",
       "[1 rows x 48 columns]"
      ]
     },
     "execution_count": 21,
     "metadata": {},
     "output_type": "execute_result"
    }
   ],
   "source": [
    "#view data as pandas frame\n",
    "heal_train[:1]"
   ]
  },
  {
   "cell_type": "code",
   "execution_count": 47,
   "metadata": {},
   "outputs": [],
   "source": [
    "#input data and target - Train\n",
    "sar_x = sar_tr[:,1:] \n",
    "sar_y = sar_tr[:,0]        #target variable\n",
    "\n",
    "#input data and target - Test\n",
    "sar_tx = sar_tt[:,1:]\n",
    "sar_ty = sar_tt[:,0]        #target variable"
   ]
  },
  {
   "cell_type": "code",
   "execution_count": 10,
   "metadata": {},
   "outputs": [
    {
     "name": "stdout",
     "output_type": "stream",
     "text": [
      "train input: 292\n",
      "train target: 292\n",
      "\n",
      "\n",
      "test input: 73\n",
      "test target: 73\n"
     ]
    }
   ],
   "source": [
    "#check base - Train\n",
    "print('train input:', len(food_x))\n",
    "print('train target:', len(food_y))\n",
    "print('\\n')\n",
    "\n",
    "#check base - Test\n",
    "print('test input:', len(food_tx))\n",
    "print('test target:', len(food_ty))"
   ]
  },
  {
   "cell_type": "markdown",
   "metadata": {},
   "source": [
    "### Normalization/Scaling of input data"
   ]
  },
  {
   "cell_type": "code",
   "execution_count": 28,
   "metadata": {},
   "outputs": [],
   "source": [
    "scaler = StandardScaler()\n",
    "scaler.fit(food_x)\n",
    "\n",
    "food_x_norm = scaler.fit_transform(food_x)\n",
    "food_tx_norm = scaler.fit_transform(food_tx)         #should we scale test input data ???           "
   ]
  },
  {
   "cell_type": "markdown",
   "metadata": {},
   "source": [
    "### Decision tree"
   ]
  },
  {
   "cell_type": "code",
   "execution_count": 52,
   "metadata": {},
   "outputs": [
    {
     "name": "stdout",
     "output_type": "stream",
     "text": [
      "Decision Tree RMSE: 82.22231517482074\n",
      "Decistion Tree Expl Var: 0.9698556541931828\n",
      "CV Runtime: 0.012967348098754883\n"
     ]
    }
   ],
   "source": [
    "#Regressors (Use train and test sets)\n",
    "\n",
    "#SciKit Decision Tree Regressor\n",
    "start_ts=time.time()\n",
    "rgr = DecisionTreeRegressor(criterion='friedman_mse', splitter='best', max_depth=None, min_samples_split=2, min_samples_leaf=1, max_features=None, random_state=rand)\n",
    "rgr.fit(food_x, food_y)\n",
    "\n",
    "scores_RMSE = math.sqrt(metrics.mean_squared_error(food_ty, rgr.predict(food_tx)))\n",
    "print('Decision Tree RMSE:', scores_RMSE)\n",
    "scores_Expl_Var = metrics.explained_variance_score(food_ty, rgr.predict(food_tx))\n",
    "print('Decistion Tree Expl Var:', scores_Expl_Var)\n",
    "print(\"CV Runtime:\", time.time()-start_ts)"
   ]
  },
  {
   "cell_type": "code",
   "execution_count": 162,
   "metadata": {},
   "outputs": [
    {
     "name": "stdout",
     "output_type": "stream",
     "text": [
      "Decision Tree RMSE: 36.52632660217761\n",
      "Decistion Tree Expl Var: 0.9841710257222684\n",
      "CV Runtime: 0.027890443801879883\n"
     ]
    }
   ],
   "source": [
    "#Regressors(Use train and test sets)\n",
    "\n",
    "#SciKit Bagging Regressor\n",
    "start_ts=time.time()\n",
    "rgr = DecisionTreeRegressor(criterion='friedman_mse', splitter='best', max_depth=None, min_samples_split=3, min_samples_leaf=1, max_features=None, random_state=rand)  \n",
    "bag = BaggingRegressor(max_samples = 0.8, random_state = rand) \n",
    "bag.fit(sar_x, sar_y) \n",
    "\n",
    "scores_RMSE = math.sqrt(metrics.mean_squared_error(sar_ty, bag.predict(sar_tx))) \n",
    "print('Decision Tree RMSE:', scores_RMSE) \n",
    "scores_Expl_Var = metrics.explained_variance_score(sar_ty, bag.predict(sar_tx))  \n",
    "print('Decistion Tree Expl Var:', scores_Expl_Var) \n",
    "print(\"CV Runtime:\", time.time()-start_ts)"
   ]
  },
  {
   "cell_type": "code",
   "execution_count": null,
   "metadata": {},
   "outputs": [],
   "source": [
    "#Cross-Val Regressors (Use original dataset, before splitting train/test)\n",
    "\n",
    "#Setup Crossval regression scorers\n",
    "scorers = {'Neg_MSE': 'neg_mean_squared_error', 'expl_var': 'explained_variance'} \n",
    "\n",
    "#SciKit Decision Tree Regressor - Cross Val\n",
    "start_ts=time.time()\n",
    "rgr = DecisionTreeRegressor(criterion='mse', splitter='best', max_depth=None, min_samples_split=2, min_samples_leaf=1, max_features=None, random_state=rand_st)\n",
    "scores = cross_validate(rgr, data_np, target_np, scoring=scorers, cv=5)\n",
    "\n",
    "scores_RMSE = np.asarray([math.sqrt(-x) for x in scores['test_Neg_MSE']])                                                                        #Turns negative MSE scores into RMSE\n",
    "scores_Expl_Var = scores['test_expl_var']\n",
    "print(\"Decision Tree RMSE:: %0.2f (+/- %0.2f)\" % ((scores_RMSE.mean()), (scores_RMSE.std() * 2)))\n",
    "print(\"Decision Tree Expl Var: %0.2f (+/- %0.2f)\" % ((scores_Expl_Var.mean()), (scores_Expl_Var.std() * 2)))\n",
    "print(\"CV Runtime:\", time.time()-start_ts)"
   ]
  },
  {
   "cell_type": "markdown",
   "metadata": {},
   "source": [
    "#### Use Decision tree features importances to drop features for NN model"
   ]
  },
  {
   "cell_type": "code",
   "execution_count": 106,
   "metadata": {},
   "outputs": [
    {
     "data": {
      "text/plain": [
       "0.9346913115248753"
      ]
     },
     "execution_count": 106,
     "metadata": {},
     "output_type": "execute_result"
    }
   ],
   "source": [
    "#get score of Decision Tree regressor model (when using all features)\n",
    "rgr.fit(sar_x, sar_y)\n",
    "rgr.score(sar_tx, sar_ty)"
   ]
  },
  {
   "cell_type": "code",
   "execution_count": null,
   "metadata": {},
   "outputs": [],
   "source": [
    "#features importances \n",
    "sar_x_cols = list(sar_train.columns)[1:]       #when using all features in Decision Tree\n",
    "feature_importances = pd.DataFrame(rgr.feature_importances_,\n",
    "                                   index = sar_x_cols,\n",
    "                                   columns=['importance']).sort_values('importance', ascending=False)\n",
    "#top 20 features\n",
    "top_feat = []\n",
    "for row in feature_importances[:20].index:\n",
    "    top_feat.append(row)\n",
    "\n",
    "top_feat"
   ]
  },
  {
   "cell_type": "code",
   "execution_count": 87,
   "metadata": {
    "scrolled": true
   },
   "outputs": [
    {
     "data": {
      "text/plain": [
       "['School_Day',\n",
       " 'Dew_Point_AVG',\n",
       " 'Month_2',\n",
       " 'Month_3',\n",
       " 'Month_4',\n",
       " 'Month_7',\n",
       " 'Month_8',\n",
       " 'Month_9',\n",
       " 'Month_10',\n",
       " 'Day_3',\n",
       " 'Day_4',\n",
       " 'Day_6',\n",
       " 'Day_7',\n",
       " 'Day_10',\n",
       " 'Day_11',\n",
       " 'Day_14',\n",
       " 'Day_15',\n",
       " 'Day_16',\n",
       " 'Day_23',\n",
       " 'Day_24',\n",
       " 'Day_25',\n",
       " 'Day_29',\n",
       " 'Day_of_week_3',\n",
       " 'Day_of_week_5',\n",
       " 'Season_Summer',\n",
       " 'Season_Winter']"
      ]
     },
     "execution_count": 87,
     "metadata": {},
     "output_type": "execute_result"
    }
   ],
   "source": [
    "#drop for NN\n",
    "col_drop = []\n",
    "for col in sar_x_cols:\n",
    "    if col not in top_feat: \n",
    "        col_drop.append(col)\n",
    "\n",
    "col_drop #then go back to the first part of this codebook to drop features"
   ]
  },
  {
   "cell_type": "markdown",
   "metadata": {},
   "source": [
    "### Random forests"
   ]
  },
  {
   "cell_type": "code",
   "execution_count": 69,
   "metadata": {},
   "outputs": [
    {
     "name": "stdout",
     "output_type": "stream",
     "text": [
      "Random Forests RMSE: 51.12293002737546\n",
      "Random Forests Expl Var: 0.9691324458126198\n",
      "CV Runtime: 0.5425472259521484\n"
     ]
    }
   ],
   "source": [
    "#Regressors (Use train and test sets)\n",
    "\n",
    "#SciKit Random Forests Regressor\n",
    "start_ts=time.time()\n",
    "rgr = RandomForestRegressor(n_estimators = 410, max_features = 0.7, min_samples_split = 3, random_state = rand)\n",
    "rgr.fit(sar_x, sar_y)\n",
    "\n",
    "scores_RMSE = math.sqrt(metrics.mean_squared_error(sar_ty, rgr.predict(sar_tx)))\n",
    "print('Random Forests RMSE:', scores_RMSE)\n",
    "scores_Expl_Var = metrics.explained_variance_score(sar_ty, rgr.predict(sar_tx))\n",
    "print('Random Forests Expl Var:', scores_Expl_Var)\n",
    "print(\"CV Runtime:\", time.time()-start_ts)"
   ]
  },
  {
   "cell_type": "markdown",
   "metadata": {},
   "source": [
    "#### Use Random forests features importances to drop features for NN model"
   ]
  },
  {
   "cell_type": "code",
   "execution_count": 59,
   "metadata": {},
   "outputs": [
    {
     "data": {
      "text/plain": [
       "0.9181698198844512"
      ]
     },
     "execution_count": 59,
     "metadata": {},
     "output_type": "execute_result"
    }
   ],
   "source": [
    "#get score of Decision Tree regressor model (when using all features)\n",
    "rgr.score(heal_tx, heal_ty)"
   ]
  },
  {
   "cell_type": "code",
   "execution_count": 70,
   "metadata": {},
   "outputs": [
    {
     "data": {
      "text/html": [
       "<div>\n",
       "<style scoped>\n",
       "    .dataframe tbody tr th:only-of-type {\n",
       "        vertical-align: middle;\n",
       "    }\n",
       "\n",
       "    .dataframe tbody tr th {\n",
       "        vertical-align: top;\n",
       "    }\n",
       "\n",
       "    .dataframe thead th {\n",
       "        text-align: right;\n",
       "    }\n",
       "</style>\n",
       "<table border=\"1\" class=\"dataframe\">\n",
       "  <thead>\n",
       "    <tr style=\"text-align: right;\">\n",
       "      <th></th>\n",
       "      <th>importance</th>\n",
       "    </tr>\n",
       "  </thead>\n",
       "  <tbody>\n",
       "    <tr>\n",
       "      <th>Day_of_week_1</th>\n",
       "      <td>0.485298</td>\n",
       "    </tr>\n",
       "    <tr>\n",
       "      <th>Temperature_AVG</th>\n",
       "      <td>0.260566</td>\n",
       "    </tr>\n",
       "    <tr>\n",
       "      <th>Dew_Point_AVG</th>\n",
       "      <td>0.073078</td>\n",
       "    </tr>\n",
       "    <tr>\n",
       "      <th>Weekend</th>\n",
       "      <td>0.072154</td>\n",
       "    </tr>\n",
       "    <tr>\n",
       "      <th>Holiday</th>\n",
       "      <td>0.051193</td>\n",
       "    </tr>\n",
       "  </tbody>\n",
       "</table>\n",
       "</div>"
      ],
      "text/plain": [
       "                 importance\n",
       "Day_of_week_1      0.485298\n",
       "Temperature_AVG    0.260566\n",
       "Dew_Point_AVG      0.073078\n",
       "Weekend            0.072154\n",
       "Holiday            0.051193"
      ]
     },
     "execution_count": 70,
     "metadata": {},
     "output_type": "execute_result"
    }
   ],
   "source": [
    "#features importances \n",
    "sar_x_cols = list(sar_train.columns)[1:]       #when using all features in Random forests\n",
    "feature_importances = pd.DataFrame(rgr.feature_importances_,\n",
    "                                   index = sar_x_cols,\n",
    "                                   columns=['importance']).sort_values('importance', ascending=False)\n",
    "\n",
    "feature_importances.head()"
   ]
  },
  {
   "cell_type": "code",
   "execution_count": 50,
   "metadata": {
    "scrolled": true
   },
   "outputs": [
    {
     "data": {
      "text/plain": [
       "['Day_of_week_1',\n",
       " 'Temperature_AVG',\n",
       " 'Dew_Point_AVG',\n",
       " 'Weekend',\n",
       " 'Holiday',\n",
       " 'Solar_Elevation_AVG',\n",
       " 'Visibility_AVG',\n",
       " 'Cloud_Cover_Fraction_AVG',\n",
       " 'Day_of_week_6',\n",
       " 'Day_11',\n",
       " 'Day_4',\n",
       " 'School_Day',\n",
       " 'Month_7',\n",
       " 'Month_5',\n",
       " 'Day_14',\n",
       " 'Day_18',\n",
       " 'Day_10',\n",
       " 'Month_4',\n",
       " 'Month_8',\n",
       " 'Day_29',\n",
       " 'Day_25',\n",
       " 'Season_Winter',\n",
       " 'Day_of_week_5',\n",
       " 'Month_9',\n",
       " 'Day_17',\n",
       " 'Day_of_week_3',\n",
       " 'Day_15',\n",
       " 'Month_2',\n",
       " 'Day_16',\n",
       " 'Day_7',\n",
       " 'Day_31',\n",
       " 'Day_6',\n",
       " 'Day_27',\n",
       " 'Day_26',\n",
       " 'Month_1',\n",
       " 'Month_12']"
      ]
     },
     "execution_count": 50,
     "metadata": {},
     "output_type": "execute_result"
    }
   ],
   "source": [
    "#top 36 features (total featues * max_features = 60*0.6)\n",
    "top_feat = []\n",
    "for row in feature_importances[:36].index:\n",
    "    top_feat.append(row)\n",
    "\n",
    "top_feat"
   ]
  },
  {
   "cell_type": "code",
   "execution_count": 27,
   "metadata": {
    "scrolled": true
   },
   "outputs": [
    {
     "data": {
      "text/plain": [
       "['Month_5',\n",
       " 'Month_6',\n",
       " 'Month_7',\n",
       " 'Month_8',\n",
       " 'Month_9',\n",
       " 'Day_1',\n",
       " 'Day_2',\n",
       " 'Day_3',\n",
       " 'Day_7',\n",
       " 'Day_8',\n",
       " 'Day_9',\n",
       " 'Day_11',\n",
       " 'Day_13',\n",
       " 'Day_15',\n",
       " 'Day_16',\n",
       " 'Day_17',\n",
       " 'Day_19',\n",
       " 'Day_21',\n",
       " 'Day_25',\n",
       " 'Day_26',\n",
       " 'Day_27',\n",
       " 'Day_30',\n",
       " 'Day_31',\n",
       " 'Season_Summer']"
      ]
     },
     "execution_count": 27,
     "metadata": {},
     "output_type": "execute_result"
    }
   ],
   "source": [
    "#drop for NN\n",
    "col_drop = []\n",
    "for col in solar_x_cols:\n",
    "    if col not in top_feat: \n",
    "        col_drop.append(col)\n",
    "\n",
    "col_drop #then go back to the first part of this codebook to drop features"
   ]
  },
  {
   "cell_type": "code",
   "execution_count": null,
   "metadata": {},
   "outputs": [],
   "source": [
    "#Cross-Val Regressors (Use original dataset, before splitting train/test)\n",
    "\n",
    "#Setup Crossval regression scorers\n",
    "scorers = {'Neg_MSE': 'neg_mean_squared_error', 'expl_var': 'explained_variance'} \n",
    "    \n",
    "#SciKit Random Forest Regressor - Cross Val\n",
    "start_ts=time.time()\n",
    "rgr = RandomForestRegressor(n_estimators = 100, max_features = 0.33, max_depth = None, min_samples_split = 3, random_state = rand)   \n",
    "scores = cross_validate(estimator = rgr, X = data_np, y = target_np, scoring = scorers, cv = 5)  \n",
    "\n",
    "scores_RMSE = np.asarray([math.sqrt(-x) for x in scores['test_Neg_MSE']])                                       #Turns negative MSE scores into RMSE\n",
    "scores_Expl_Var = scores['test_expl_var']\n",
    "print(\"Random Forest RMSE: %0.2f (+/- %0.2f)\" % ((scores_RMSE.mean()), (scores_RMSE.std() * 2)))\n",
    "print(\"Random Forest Expl Var: %0.2f (+/- %0.2f)\" % ((scores_Expl_Var.mean()), (scores_Expl_Var.std() * 2)))\n",
    "print(\"CV Runtime:\", time.time()-start_ts)"
   ]
  },
  {
   "cell_type": "markdown",
   "metadata": {},
   "source": [
    "### SVM for Regression"
   ]
  },
  {
   "cell_type": "code",
   "execution_count": 21,
   "metadata": {},
   "outputs": [
    {
     "name": "stdout",
     "output_type": "stream",
     "text": [
      "SVM RMSE: 30198.39415291634\n",
      "SVM Expl Var: 0.24617846895790307\n",
      "CV Runtime: 0.14963221549987793\n"
     ]
    }
   ],
   "source": [
    "#Regressors (Use train and test sets)\n",
    "    \n",
    "#SciKit SVM \n",
    "start_ts=time.time()\n",
    "rgr=SVR(kernel='linear', gamma='auto')\n",
    "rgr.fit(solar_x, solar_y)                                                                                               \n",
    "\n",
    "scores_RMSE = math.sqrt(metrics.mean_squared_error(solar_ty, rgr.predict(solar_tx)))\n",
    "print('SVM RMSE:', scores_RMSE)\n",
    "scores_Expl_Var = metrics.explained_variance_score(solar_ty, rgr.predict(solar_tx))\n",
    "print('SVM Expl Var:', scores_Expl_Var)\n",
    "print(\"CV Runtime:\", time.time()-start_ts)"
   ]
  },
  {
   "cell_type": "code",
   "execution_count": null,
   "metadata": {},
   "outputs": [],
   "source": [
    "#Cross-Val Regressors (Use original dataset, before splitting train/test)\n",
    "\n",
    "#Setup Crossval regression scorers\n",
    "scorers = {'Neg_MSE': 'neg_mean_squared_error', 'expl_var': 'explained_variance'} \n",
    "    \n",
    "#SciKit SVM - Cross Val\n",
    "start_ts=time.time()\n",
    "rgr=SVR(kernel='linear',gamma=0.1,C=1.0)\n",
    "scores=cross_validate(estimator = rgr, X = data_np, y = target_np, scoring = scorers, cv = 5)                                                                                                \n",
    "\n",
    "scores_RMSE = np.asarray([math.sqrt(-x) for x in scores['test_Neg_MSE']])                                       #Turns negative MSE scores into RMSE\n",
    "scores_Expl_Var = scores['test_expl_var']\n",
    "print(\"SVM RMSE: %0.2f (+/- %0.2f)\" % ((scores_RMSE.mean()), (scores_RMSE.std() * 2)))\n",
    "print(\"SVM Expl Var: %0.2f (+/- %0.2f)\" % ((scores_Expl_Var.mean()), (scores_Expl_Var.std() * 2)))\n",
    "print(\"CV Runtime:\", time.time()-start_ts)"
   ]
  },
  {
   "cell_type": "markdown",
   "metadata": {},
   "source": [
    "### Neural nets"
   ]
  },
  {
   "cell_type": "code",
   "execution_count": 109,
   "metadata": {},
   "outputs": [
    {
     "name": "stdout",
     "output_type": "stream",
     "text": [
      "Neural Net RMSE: 188.95481631421802\n",
      "Neural Net Expl Var: 0.8888234171206553\n",
      "CV Runtime: 0.3151276111602783\n"
     ]
    }
   ],
   "source": [
    "#Regressors (Use train and test sets)\n",
    "    \n",
    "#SciKit SVM \n",
    "start_ts=time.time()\n",
    "rgr=MLPRegressor(activation = 'identity', solver = 'lbfgs', alpha = 0.0001, max_iter = 10000, \n",
    "                 hidden_layer_sizes = (10,), random_state = rand)\n",
    "rgr.fit(heal_x, heal_y)                                                                                                \n",
    "\n",
    "scores_RMSE = math.sqrt(metrics.mean_squared_error(heal_ty, rgr.predict(heal_tx)))\n",
    "print('Neural Net RMSE:', scores_RMSE)\n",
    "scores_Expl_Var = metrics.explained_variance_score(heal_ty, rgr.predict(heal_tx))\n",
    "print('Neural Net Expl Var:', scores_Expl_Var)\n",
    "print(\"CV Runtime:\", time.time()-start_ts)"
   ]
  },
  {
   "cell_type": "code",
   "execution_count": null,
   "metadata": {},
   "outputs": [],
   "source": [
    "#Cross-Val Regressors (Use original dataset, before splitting train/test)\n",
    "\n",
    "#Setup Crossval regression scorers\n",
    "scorers = {'Neg_MSE': 'neg_mean_squared_error', 'expl_var': 'explained_variance'} \n",
    "    \n",
    "#SciKit Neural Network - Cross Val\n",
    "start_ts=time.time()\n",
    "rgrNN= MLPRegressor(activation = 'logistic', solver = 'adam', alpha = 0.001, max_iter = 1000, \n",
    "                    hidden_layer_sizes = (100,), learning_rate = 'adaptive', random_state = rand)\n",
    "scores= cross_validate(estimator = rgrNN, X = data_np, y = target_np, scoring = scorers, cv = 5)\n",
    "\n",
    "scores_RMSE = np.asarray([math.sqrt(-x) for x in scores['test_Neg_MSE']])                                       #Turns negative MSE scores into RMSE\n",
    "scores_Expl_Var = scores['test_expl_var']\n",
    "print(\"Neural Network RMSE: %0.2f (+/- %0.2f)\" % ((scores_RMSE.mean()), (scores_RMSE.std() * 2)))\n",
    "print(\"Neural Network Expl Var: %0.2f (+/- %0.2f)\" % ((scores_Expl_Var.mean()), (scores_Expl_Var.std() * 2)))\n",
    "print(\"CV Runtime:\", time.time()-start_ts) "
   ]
  },
  {
   "cell_type": "markdown",
   "metadata": {},
   "source": [
    "### Use models trained to predict values using test sets"
   ]
  },
  {
   "cell_type": "markdown",
   "metadata": {},
   "source": [
    "#### Wind"
   ]
  },
  {
   "cell_type": "code",
   "execution_count": 18,
   "metadata": {},
   "outputs": [
    {
     "name": "stdout",
     "output_type": "stream",
     "text": [
      "Month_1\n",
      "Season_Winter\n"
     ]
    }
   ],
   "source": [
    "headers = list(wind_test.columns)\n",
    "col_drop = headers[2:]\n",
    "#col_drop1 = headers[3:]\n",
    "#col_drop.extend(col_drop1)\n",
    "\n",
    "print(col_drop[0])\n",
    "print(col_drop[-1])"
   ]
  },
  {
   "cell_type": "code",
   "execution_count": 19,
   "metadata": {},
   "outputs": [],
   "source": [
    "wind_test = wind_test.drop(columns = col_drop)"
   ]
  },
  {
   "cell_type": "code",
   "execution_count": 25,
   "metadata": {},
   "outputs": [],
   "source": [
    "wind_test_y = pd.DataFrame(wind_test, columns=['Electricity_KW_HR_AVG'])\n",
    "wind_test_x = pd.DataFrame(wind_test, columns=['Wind_Speed_AVG'])"
   ]
  },
  {
   "cell_type": "code",
   "execution_count": 26,
   "metadata": {},
   "outputs": [
    {
     "data": {
      "text/html": [
       "<div>\n",
       "<style scoped>\n",
       "    .dataframe tbody tr th:only-of-type {\n",
       "        vertical-align: middle;\n",
       "    }\n",
       "\n",
       "    .dataframe tbody tr th {\n",
       "        vertical-align: top;\n",
       "    }\n",
       "\n",
       "    .dataframe thead th {\n",
       "        text-align: right;\n",
       "    }\n",
       "</style>\n",
       "<table border=\"1\" class=\"dataframe\">\n",
       "  <thead>\n",
       "    <tr style=\"text-align: right;\">\n",
       "      <th></th>\n",
       "      <th>Wind_Speed_AVG</th>\n",
       "    </tr>\n",
       "  </thead>\n",
       "  <tbody>\n",
       "    <tr>\n",
       "      <th>0</th>\n",
       "      <td>3.833333</td>\n",
       "    </tr>\n",
       "    <tr>\n",
       "      <th>1</th>\n",
       "      <td>6.933333</td>\n",
       "    </tr>\n",
       "    <tr>\n",
       "      <th>2</th>\n",
       "      <td>3.750000</td>\n",
       "    </tr>\n",
       "  </tbody>\n",
       "</table>\n",
       "</div>"
      ],
      "text/plain": [
       "   Wind_Speed_AVG\n",
       "0        3.833333\n",
       "1        6.933333\n",
       "2        3.750000"
      ]
     },
     "execution_count": 26,
     "metadata": {},
     "output_type": "execute_result"
    }
   ],
   "source": [
    "wind_test_x[:3]"
   ]
  },
  {
   "cell_type": "code",
   "execution_count": 27,
   "metadata": {},
   "outputs": [],
   "source": [
    "#use model trained to predict electrical production for test set\n",
    "wind_nn = rgr.predict(wind_test_x)"
   ]
  },
  {
   "cell_type": "code",
   "execution_count": 29,
   "metadata": {},
   "outputs": [],
   "source": [
    "wind_predicted = pd.DataFrame(wind_nn, columns=['Predicted'])\n",
    "wind_predicted['Actual'] = wind_test_y['Electricity_KW_HR_AVG']"
   ]
  },
  {
   "cell_type": "code",
   "execution_count": 32,
   "metadata": {},
   "outputs": [
    {
     "data": {
      "text/html": [
       "<div>\n",
       "<style scoped>\n",
       "    .dataframe tbody tr th:only-of-type {\n",
       "        vertical-align: middle;\n",
       "    }\n",
       "\n",
       "    .dataframe tbody tr th {\n",
       "        vertical-align: top;\n",
       "    }\n",
       "\n",
       "    .dataframe thead th {\n",
       "        text-align: right;\n",
       "    }\n",
       "</style>\n",
       "<table border=\"1\" class=\"dataframe\">\n",
       "  <thead>\n",
       "    <tr style=\"text-align: right;\">\n",
       "      <th></th>\n",
       "      <th>Predicted</th>\n",
       "      <th>Actual</th>\n",
       "      <th>Diff</th>\n",
       "    </tr>\n",
       "  </thead>\n",
       "  <tbody>\n",
       "    <tr>\n",
       "      <th>0</th>\n",
       "      <td>2421.442398</td>\n",
       "      <td>2575.500000</td>\n",
       "      <td>-154.057602</td>\n",
       "    </tr>\n",
       "    <tr>\n",
       "      <th>1</th>\n",
       "      <td>16156.801606</td>\n",
       "      <td>20087.833330</td>\n",
       "      <td>-3931.031724</td>\n",
       "    </tr>\n",
       "    <tr>\n",
       "      <th>2</th>\n",
       "      <td>2374.711567</td>\n",
       "      <td>3447.666667</td>\n",
       "      <td>-1072.955100</td>\n",
       "    </tr>\n",
       "  </tbody>\n",
       "</table>\n",
       "</div>"
      ],
      "text/plain": [
       "      Predicted        Actual         Diff\n",
       "0   2421.442398   2575.500000  -154.057602\n",
       "1  16156.801606  20087.833330 -3931.031724\n",
       "2   2374.711567   3447.666667 -1072.955100"
      ]
     },
     "execution_count": 32,
     "metadata": {},
     "output_type": "execute_result"
    }
   ],
   "source": [
    "wind_predicted['Diff'] = wind_predicted['Predicted'] - wind_predicted['Actual']\n",
    "wind_predicted[:3]"
   ]
  },
  {
   "cell_type": "code",
   "execution_count": 41,
   "metadata": {},
   "outputs": [
    {
     "data": {
      "image/png": "[encoded data removed]",
      "text/plain": [
       "<Figure size 432x288 with 1 Axes>"
      ]
     },
     "metadata": {
      "needs_background": "light"
     },
     "output_type": "display_data"
    }
   ],
   "source": [
    "#plot line chart \n",
    "ax = pyplot.gca()\n",
    "\n",
    "wind_predicted.plot(kind='line', y='Predicted',ax=ax)\n",
    "wind_predicted.plot(kind='line', y='Actual', color='red', ax=ax)\n",
    "pyplot.title('Neural Net Predictions vs. Actual Electricity Production')\n",
    "pyplot.ylabel('Electricity_KW_HR_AVG')\n",
    "pyplot.legend()\n",
    "pyplot.savefig(\"NN.png\", bbox_inches='tight')\n",
    "\n",
    "pyplot.show()"
   ]
  },
  {
   "cell_type": "markdown",
   "metadata": {},
   "source": [
    "#### Solar"
   ]
  },
  {
   "cell_type": "code",
   "execution_count": 43,
   "metadata": {},
   "outputs": [
    {
     "data": {
      "text/html": [
       "<div>\n",
       "<style scoped>\n",
       "    .dataframe tbody tr th:only-of-type {\n",
       "        vertical-align: middle;\n",
       "    }\n",
       "\n",
       "    .dataframe tbody tr th {\n",
       "        vertical-align: top;\n",
       "    }\n",
       "\n",
       "    .dataframe thead th {\n",
       "        text-align: right;\n",
       "    }\n",
       "</style>\n",
       "<table border=\"1\" class=\"dataframe\">\n",
       "  <thead>\n",
       "    <tr style=\"text-align: right;\">\n",
       "      <th></th>\n",
       "      <th>Electricity_KW_HR_AVG</th>\n",
       "      <th>Solar_Elevation_AVG</th>\n",
       "      <th>Cloud_Cover_Fraction_AVG</th>\n",
       "      <th>Dew_Point_AVG</th>\n",
       "      <th>Humidity_Fraction_AVG</th>\n",
       "      <th>Precipitation_AVG</th>\n",
       "      <th>Temperature_AVG</th>\n",
       "      <th>Visibility_AVG</th>\n",
       "      <th>Wind_Speed_AVG</th>\n",
       "      <th>Month_1</th>\n",
       "      <th>...</th>\n",
       "      <th>Day_of_week_1</th>\n",
       "      <th>Day_of_week_2</th>\n",
       "      <th>Day_of_week_3</th>\n",
       "      <th>Day_of_week_4</th>\n",
       "      <th>Day_of_week_6</th>\n",
       "      <th>Day_of_week_7</th>\n",
       "      <th>Season_Autumn</th>\n",
       "      <th>Season_Spring</th>\n",
       "      <th>Season_Summer</th>\n",
       "      <th>Season_Winter</th>\n",
       "    </tr>\n",
       "  </thead>\n",
       "  <tbody>\n",
       "    <tr>\n",
       "      <th>0</th>\n",
       "      <td>13437.63687</td>\n",
       "      <td>17.338394</td>\n",
       "      <td>1.000000</td>\n",
       "      <td>2.780000e-17</td>\n",
       "      <td>0.815225</td>\n",
       "      <td>0.0375</td>\n",
       "      <td>2.850000</td>\n",
       "      <td>11.063875</td>\n",
       "      <td>5.012500</td>\n",
       "      <td>0</td>\n",
       "      <td>...</td>\n",
       "      <td>0</td>\n",
       "      <td>0</td>\n",
       "      <td>0</td>\n",
       "      <td>0</td>\n",
       "      <td>0</td>\n",
       "      <td>1</td>\n",
       "      <td>1</td>\n",
       "      <td>0</td>\n",
       "      <td>0</td>\n",
       "      <td>0</td>\n",
       "    </tr>\n",
       "    <tr>\n",
       "      <th>1</th>\n",
       "      <td>58666.80182</td>\n",
       "      <td>29.373761</td>\n",
       "      <td>0.627273</td>\n",
       "      <td>5.200000e+00</td>\n",
       "      <td>0.656927</td>\n",
       "      <td>0.0000</td>\n",
       "      <td>11.618182</td>\n",
       "      <td>16.093000</td>\n",
       "      <td>4.381818</td>\n",
       "      <td>0</td>\n",
       "      <td>...</td>\n",
       "      <td>1</td>\n",
       "      <td>0</td>\n",
       "      <td>0</td>\n",
       "      <td>0</td>\n",
       "      <td>0</td>\n",
       "      <td>0</td>\n",
       "      <td>1</td>\n",
       "      <td>0</td>\n",
       "      <td>0</td>\n",
       "      <td>0</td>\n",
       "    </tr>\n",
       "    <tr>\n",
       "      <th>2</th>\n",
       "      <td>105304.03170</td>\n",
       "      <td>35.447798</td>\n",
       "      <td>0.000000</td>\n",
       "      <td>1.462500e+01</td>\n",
       "      <td>0.552750</td>\n",
       "      <td>0.0000</td>\n",
       "      <td>24.766667</td>\n",
       "      <td>16.093000</td>\n",
       "      <td>5.783333</td>\n",
       "      <td>0</td>\n",
       "      <td>...</td>\n",
       "      <td>0</td>\n",
       "      <td>0</td>\n",
       "      <td>0</td>\n",
       "      <td>0</td>\n",
       "      <td>0</td>\n",
       "      <td>0</td>\n",
       "      <td>0</td>\n",
       "      <td>0</td>\n",
       "      <td>1</td>\n",
       "      <td>0</td>\n",
       "    </tr>\n",
       "  </tbody>\n",
       "</table>\n",
       "<p>3 rows × 61 columns</p>\n",
       "</div>"
      ],
      "text/plain": [
       "   Electricity_KW_HR_AVG  Solar_Elevation_AVG  Cloud_Cover_Fraction_AVG  \\\n",
       "0            13437.63687            17.338394                  1.000000   \n",
       "1            58666.80182            29.373761                  0.627273   \n",
       "2           105304.03170            35.447798                  0.000000   \n",
       "\n",
       "   Dew_Point_AVG  Humidity_Fraction_AVG  Precipitation_AVG  Temperature_AVG  \\\n",
       "0   2.780000e-17               0.815225             0.0375         2.850000   \n",
       "1   5.200000e+00               0.656927             0.0000        11.618182   \n",
       "2   1.462500e+01               0.552750             0.0000        24.766667   \n",
       "\n",
       "   Visibility_AVG  Wind_Speed_AVG  Month_1  ...  Day_of_week_1  Day_of_week_2  \\\n",
       "0       11.063875        5.012500        0  ...              0              0   \n",
       "1       16.093000        4.381818        0  ...              1              0   \n",
       "2       16.093000        5.783333        0  ...              0              0   \n",
       "\n",
       "   Day_of_week_3  Day_of_week_4  Day_of_week_6  Day_of_week_7  Season_Autumn  \\\n",
       "0              0              0              0              1              1   \n",
       "1              0              0              0              0              1   \n",
       "2              0              0              0              0              0   \n",
       "\n",
       "   Season_Spring  Season_Summer  Season_Winter  \n",
       "0              0              0              0  \n",
       "1              0              0              0  \n",
       "2              0              1              0  \n",
       "\n",
       "[3 rows x 61 columns]"
      ]
     },
     "execution_count": 43,
     "metadata": {},
     "output_type": "execute_result"
    }
   ],
   "source": [
    "solar_test[:3]"
   ]
  },
  {
   "cell_type": "code",
   "execution_count": 44,
   "metadata": {
    "scrolled": true
   },
   "outputs": [
    {
     "data": {
      "text/plain": [
       "['Solar_Elevation_AVG',\n",
       " 'Cloud_Cover_Fraction_AVG',\n",
       " 'Dew_Point_AVG',\n",
       " 'Humidity_Fraction_AVG',\n",
       " 'Precipitation_AVG',\n",
       " 'Temperature_AVG',\n",
       " 'Visibility_AVG',\n",
       " 'Wind_Speed_AVG',\n",
       " 'Month_1',\n",
       " 'Month_2',\n",
       " 'Month_3',\n",
       " 'Month_4',\n",
       " 'Month_5',\n",
       " 'Month_6',\n",
       " 'Month_7',\n",
       " 'Month_8',\n",
       " 'Month_9',\n",
       " 'Month_10',\n",
       " 'Month_11',\n",
       " 'Month_12',\n",
       " 'Day_1',\n",
       " 'Day_2',\n",
       " 'Day_3',\n",
       " 'Day_4',\n",
       " 'Day_5',\n",
       " 'Day_6',\n",
       " 'Day_7',\n",
       " 'Day_8',\n",
       " 'Day_9',\n",
       " 'Day_11',\n",
       " 'Day_12',\n",
       " 'Day_13',\n",
       " 'Day_14',\n",
       " 'Day_15',\n",
       " 'Day_16',\n",
       " 'Day_17',\n",
       " 'Day_18',\n",
       " 'Day_19',\n",
       " 'Day_20',\n",
       " 'Day_21',\n",
       " 'Day_22',\n",
       " 'Day_23',\n",
       " 'Day_24',\n",
       " 'Day_25',\n",
       " 'Day_26',\n",
       " 'Day_27',\n",
       " 'Day_28',\n",
       " 'Day_29',\n",
       " 'Day_30',\n",
       " 'Day_31',\n",
       " 'Day_of_week_1',\n",
       " 'Day_of_week_2',\n",
       " 'Day_of_week_3',\n",
       " 'Day_of_week_4',\n",
       " 'Day_of_week_6',\n",
       " 'Day_of_week_7',\n",
       " 'Season_Autumn',\n",
       " 'Season_Spring',\n",
       " 'Season_Summer',\n",
       " 'Season_Winter']"
      ]
     },
     "execution_count": 44,
     "metadata": {},
     "output_type": "execute_result"
    }
   ],
   "source": [
    "solar_test_y_cols = list(solar_test)[1:]\n",
    "solar_test_y_cols"
   ]
  },
  {
   "cell_type": "code",
   "execution_count": 45,
   "metadata": {},
   "outputs": [],
   "source": [
    "solar_test_x = pd.DataFrame(solar_test, columns=solar_test_y_cols)\n",
    "solar_test_y = pd.DataFrame(solar_test, columns=['Electricity_KW_HR_AVG'])"
   ]
  },
  {
   "cell_type": "code",
   "execution_count": 46,
   "metadata": {},
   "outputs": [],
   "source": [
    "#use model trained to predict electrical production for test set\n",
    "solar_rf = rgr.predict(solar_test_x)"
   ]
  },
  {
   "cell_type": "code",
   "execution_count": 47,
   "metadata": {},
   "outputs": [],
   "source": [
    "solar_predicted = pd.DataFrame(solar_rf, columns=['Predicted'])\n",
    "solar_predicted['Actual'] = solar_test_y['Electricity_KW_HR_AVG']"
   ]
  },
  {
   "cell_type": "code",
   "execution_count": 52,
   "metadata": {},
   "outputs": [
    {
     "data": {
      "image/png": "[encoded data removed]",
      "text/plain": [
       "<Figure size 432x288 with 1 Axes>"
      ]
     },
     "metadata": {
      "needs_background": "light"
     },
     "output_type": "display_data"
    }
   ],
   "source": [
    "#plot line chart \n",
    "ax = pyplot.gca()\n",
    "\n",
    "solar_predicted.plot(kind='line', y='Predicted',ax=ax)\n",
    "solar_predicted.plot(kind='line', y='Actual', color='red', alpha=0.6, ax=ax)\n",
    "pyplot.title('Random Forests Predictions vs. Actual Electricity Production')\n",
    "pyplot.ylabel('Electricity_KW_HR_AVG')\n",
    "pyplot.legend()\n",
    "pyplot.savefig(\"RF_SOLAR.png\", bbox_inches='tight')\n",
    "\n",
    "pyplot.show()"
   ]
  },
  {
   "cell_type": "markdown",
   "metadata": {},
   "source": [
    "#### Consumption Sectors"
   ]
  },
  {
   "cell_type": "code",
   "execution_count": 138,
   "metadata": {},
   "outputs": [
    {
     "name": "stdout",
     "output_type": "stream",
     "text": [
      "Day_1\n",
      "Day_of_week_6\n",
      "Day_of_week_7\n"
     ]
    }
   ],
   "source": [
    "print(col_drop[0])\n",
    "print(col_drop[-2])\n",
    "print(col_drop[-1])"
   ]
  },
  {
   "cell_type": "code",
   "execution_count": 139,
   "metadata": {},
   "outputs": [],
   "source": [
    "food_test = food_test.drop(columns = col_drop)"
   ]
  },
  {
   "cell_type": "code",
   "execution_count": 140,
   "metadata": {},
   "outputs": [
    {
     "data": {
      "text/html": [
       "<div>\n",
       "<style scoped>\n",
       "    .dataframe tbody tr th:only-of-type {\n",
       "        vertical-align: middle;\n",
       "    }\n",
       "\n",
       "    .dataframe tbody tr th {\n",
       "        vertical-align: top;\n",
       "    }\n",
       "\n",
       "    .dataframe thead th {\n",
       "        text-align: right;\n",
       "    }\n",
       "</style>\n",
       "<table border=\"1\" class=\"dataframe\">\n",
       "  <thead>\n",
       "    <tr style=\"text-align: right;\">\n",
       "      <th></th>\n",
       "      <th>Electricity_KW_AVG</th>\n",
       "      <th>Weekend</th>\n",
       "      <th>Holiday</th>\n",
       "      <th>School_Day</th>\n",
       "      <th>Solar_Elevation_AVG</th>\n",
       "      <th>Cloud_Cover_Fraction_AVG</th>\n",
       "      <th>Dew_Point_AVG</th>\n",
       "      <th>Precipitable_Water_AVG</th>\n",
       "      <th>Temperature_AVG</th>\n",
       "      <th>Visibility_AVG</th>\n",
       "      <th>...</th>\n",
       "      <th>Month_6</th>\n",
       "      <th>Month_7</th>\n",
       "      <th>Month_8</th>\n",
       "      <th>Month_9</th>\n",
       "      <th>Month_10</th>\n",
       "      <th>Month_12</th>\n",
       "      <th>Season_Autumn</th>\n",
       "      <th>Season_Spring</th>\n",
       "      <th>Season_Summer</th>\n",
       "      <th>Season_Winter</th>\n",
       "    </tr>\n",
       "  </thead>\n",
       "  <tbody>\n",
       "    <tr>\n",
       "      <th>0</th>\n",
       "      <td>8050.762123</td>\n",
       "      <td>0</td>\n",
       "      <td>0</td>\n",
       "      <td>1</td>\n",
       "      <td>7.580548</td>\n",
       "      <td>0.991667</td>\n",
       "      <td>6.329167</td>\n",
       "      <td>16.083333</td>\n",
       "      <td>7.866667</td>\n",
       "      <td>12.058333</td>\n",
       "      <td>...</td>\n",
       "      <td>0</td>\n",
       "      <td>0</td>\n",
       "      <td>0</td>\n",
       "      <td>0</td>\n",
       "      <td>0</td>\n",
       "      <td>0</td>\n",
       "      <td>0</td>\n",
       "      <td>1</td>\n",
       "      <td>0</td>\n",
       "      <td>0</td>\n",
       "    </tr>\n",
       "    <tr>\n",
       "      <th>1</th>\n",
       "      <td>8199.111356</td>\n",
       "      <td>1</td>\n",
       "      <td>0</td>\n",
       "      <td>0</td>\n",
       "      <td>-16.976956</td>\n",
       "      <td>0.962500</td>\n",
       "      <td>4.983333</td>\n",
       "      <td>14.291667</td>\n",
       "      <td>6.929167</td>\n",
       "      <td>12.425000</td>\n",
       "      <td>...</td>\n",
       "      <td>0</td>\n",
       "      <td>0</td>\n",
       "      <td>0</td>\n",
       "      <td>0</td>\n",
       "      <td>0</td>\n",
       "      <td>0</td>\n",
       "      <td>1</td>\n",
       "      <td>0</td>\n",
       "      <td>0</td>\n",
       "      <td>0</td>\n",
       "    </tr>\n",
       "    <tr>\n",
       "      <th>2</th>\n",
       "      <td>8182.295922</td>\n",
       "      <td>0</td>\n",
       "      <td>0</td>\n",
       "      <td>0</td>\n",
       "      <td>7.680852</td>\n",
       "      <td>0.920833</td>\n",
       "      <td>13.320833</td>\n",
       "      <td>23.750000</td>\n",
       "      <td>15.770833</td>\n",
       "      <td>12.500000</td>\n",
       "      <td>...</td>\n",
       "      <td>0</td>\n",
       "      <td>0</td>\n",
       "      <td>1</td>\n",
       "      <td>0</td>\n",
       "      <td>0</td>\n",
       "      <td>0</td>\n",
       "      <td>0</td>\n",
       "      <td>0</td>\n",
       "      <td>1</td>\n",
       "      <td>0</td>\n",
       "    </tr>\n",
       "  </tbody>\n",
       "</table>\n",
       "<p>3 rows × 24 columns</p>\n",
       "</div>"
      ],
      "text/plain": [
       "   Electricity_KW_AVG  Weekend  Holiday  School_Day  Solar_Elevation_AVG  \\\n",
       "0         8050.762123        0        0           1             7.580548   \n",
       "1         8199.111356        1        0           0           -16.976956   \n",
       "2         8182.295922        0        0           0             7.680852   \n",
       "\n",
       "   Cloud_Cover_Fraction_AVG  Dew_Point_AVG  Precipitable_Water_AVG  \\\n",
       "0                  0.991667       6.329167               16.083333   \n",
       "1                  0.962500       4.983333               14.291667   \n",
       "2                  0.920833      13.320833               23.750000   \n",
       "\n",
       "   Temperature_AVG  Visibility_AVG  ...  Month_6  Month_7  Month_8  Month_9  \\\n",
       "0         7.866667       12.058333  ...        0        0        0        0   \n",
       "1         6.929167       12.425000  ...        0        0        0        0   \n",
       "2        15.770833       12.500000  ...        0        0        1        0   \n",
       "\n",
       "   Month_10  Month_12  Season_Autumn  Season_Spring  Season_Summer  \\\n",
       "0         0         0              0              1              0   \n",
       "1         0         0              1              0              0   \n",
       "2         0         0              0              0              1   \n",
       "\n",
       "   Season_Winter  \n",
       "0              0  \n",
       "1              0  \n",
       "2              0  \n",
       "\n",
       "[3 rows x 24 columns]"
      ]
     },
     "execution_count": 140,
     "metadata": {},
     "output_type": "execute_result"
    }
   ],
   "source": [
    "food_test[:3]"
   ]
  },
  {
   "cell_type": "code",
   "execution_count": 141,
   "metadata": {
    "scrolled": true
   },
   "outputs": [
    {
     "data": {
      "text/plain": [
       "['Weekend',\n",
       " 'Holiday',\n",
       " 'School_Day',\n",
       " 'Solar_Elevation_AVG',\n",
       " 'Cloud_Cover_Fraction_AVG',\n",
       " 'Dew_Point_AVG',\n",
       " 'Precipitable_Water_AVG',\n",
       " 'Temperature_AVG',\n",
       " 'Visibility_AVG',\n",
       " 'Month_1',\n",
       " 'Month_2',\n",
       " 'Month_4',\n",
       " 'Month_5',\n",
       " 'Month_6',\n",
       " 'Month_7',\n",
       " 'Month_8',\n",
       " 'Month_9',\n",
       " 'Month_10',\n",
       " 'Month_12',\n",
       " 'Season_Autumn',\n",
       " 'Season_Spring',\n",
       " 'Season_Summer',\n",
       " 'Season_Winter']"
      ]
     },
     "execution_count": 141,
     "metadata": {},
     "output_type": "execute_result"
    }
   ],
   "source": [
    "food_test_y_cols = list(food_test)[1:]\n",
    "food_test_y_cols"
   ]
  },
  {
   "cell_type": "code",
   "execution_count": 142,
   "metadata": {},
   "outputs": [],
   "source": [
    "food_test_x = pd.DataFrame(food_test, columns=food_test_y_cols)\n",
    "food_test_y = pd.DataFrame(food_test, columns=['Electricity_KW_AVG'])"
   ]
  },
  {
   "cell_type": "code",
   "execution_count": 143,
   "metadata": {},
   "outputs": [],
   "source": [
    "#use model trained to predict electrical production for test set\n",
    "food_nn = rgr.predict(food_test_x)"
   ]
  },
  {
   "cell_type": "code",
   "execution_count": 144,
   "metadata": {},
   "outputs": [],
   "source": [
    "food_predicted = pd.DataFrame(food_nn, columns=['Predicted'])\n",
    "food_predicted['Actual'] = food_test_y['Electricity_KW_AVG']"
   ]
  },
  {
   "cell_type": "code",
   "execution_count": 145,
   "metadata": {},
   "outputs": [
    {
     "data": {
      "image/png": "[encoded data removed]",
      "text/plain": [
       "<Figure size 432x288 with 1 Axes>"
      ]
     },
     "metadata": {
      "needs_background": "light"
     },
     "output_type": "display_data"
    }
   ],
   "source": [
    "#plot line chart \n",
    "ax = pyplot.gca()\n",
    "\n",
    "food_predicted.plot(kind='line', y='Predicted',ax=ax)\n",
    "food_predicted.plot(kind='line', y='Actual', color='red', ax=ax)\n",
    "pyplot.title('Neural Net Predictions vs. Actual Electricity Production')\n",
    "pyplot.ylabel('Electricity_KW_AVG')\n",
    "pyplot.legend()\n",
    "pyplot.savefig(\"NN_FOOD.png\", bbox_inches='tight')\n",
    "\n",
    "pyplot.show()"
   ]
  },
  {
   "cell_type": "markdown",
   "metadata": {},
   "source": [
    "### Use models trained to predict Consumption using Scenario data"
   ]
  },
  {
   "cell_type": "code",
   "execution_count": 57,
   "metadata": {},
   "outputs": [],
   "source": [
    "#import Scenario datasets\n",
    "solar_sce = read_csv('solar_scenario.csv', index_col=False)\n",
    "wind_sce = read_csv('wind_scenario.csv', index_col=False)\n",
    "food_sce = read_csv('food_scenario.csv', index_col=False)\n",
    "groc_sce = read_csv('groc_scenario.csv', index_col=False)\n",
    "heal_sce = read_csv('heal_scenario.csv', index_col=False)\n",
    "k12_sce = read_csv('k12_scenario.csv', index_col=False)\n",
    "lodg_sce = read_csv('lodg_scenario.csv', index_col=False)\n",
    "off_sce = read_csv('off_scenario.csv', index_col=False)\n",
    "res_sce = read_csv('res_scenario.csv', index_col=False)\n",
    "sar_sce = read_csv('sar_scenario.csv', index_col=False)"
   ]
  },
  {
   "cell_type": "code",
   "execution_count": 60,
   "metadata": {},
   "outputs": [],
   "source": [
    "#get dates from Consumption scenario data\n",
    "date_col = food_sce['Date_Time']"
   ]
  },
  {
   "cell_type": "code",
   "execution_count": 88,
   "metadata": {},
   "outputs": [
    {
     "data": {
      "text/plain": [
       "0    01/01/91\n",
       "1    01/02/91\n",
       "2    01/03/91\n",
       "Name: Date_Time, dtype: object"
      ]
     },
     "execution_count": 88,
     "metadata": {},
     "output_type": "execute_result"
    }
   ],
   "source": [
    "date_col[:3]"
   ]
  },
  {
   "cell_type": "code",
   "execution_count": 61,
   "metadata": {},
   "outputs": [],
   "source": [
    "food_sce = food_sce.drop(columns=['Date_Time'])\n",
    "groc_sce = groc_sce.drop(columns=['Date_Time'])\n",
    "heal_sce = heal_sce.drop(columns=['Date_Time'])\n",
    "k12_sce = k12_sce.drop(columns=['Date_Time'])\n",
    "lodg_sce = lodg_sce.drop(columns=['Date_Time'])\n",
    "off_sce = off_sce.drop(columns=['Date_Time'])\n",
    "res_sce = res_sce.drop(columns=['Date_Time'])\n",
    "sar_sce = sar_sce.drop(columns=['Date_Time'])"
   ]
  },
  {
   "cell_type": "code",
   "execution_count": 79,
   "metadata": {},
   "outputs": [
    {
     "data": {
      "text/plain": [
       "RandomForestRegressor(bootstrap=True, criterion='mse', max_depth=None,\n",
       "           max_features=0.7, max_leaf_nodes=None,\n",
       "           min_impurity_decrease=0.0, min_impurity_split=None,\n",
       "           min_samples_leaf=1, min_samples_split=3,\n",
       "           min_weight_fraction_leaf=0.0, n_estimators=410, n_jobs=None,\n",
       "           oob_score=False, random_state=3, verbose=0, warm_start=False)"
      ]
     },
     "execution_count": 79,
     "metadata": {},
     "output_type": "execute_result"
    }
   ],
   "source": [
    "#Rerun model for each of 8 sectors\n",
    "rgr = RandomForestRegressor(n_estimators = 410, max_features = 0.7, min_samples_split = 3, random_state = rand)\n",
    "rgr.fit(sar_x, sar_y)"
   ]
  },
  {
   "cell_type": "code",
   "execution_count": 64,
   "metadata": {},
   "outputs": [],
   "source": [
    "food_preds = rgr.predict(food_sce)"
   ]
  },
  {
   "cell_type": "code",
   "execution_count": 67,
   "metadata": {},
   "outputs": [],
   "source": [
    "groc_preds = rgr.predict(groc_sce)"
   ]
  },
  {
   "cell_type": "code",
   "execution_count": 70,
   "metadata": {},
   "outputs": [],
   "source": [
    "heal_preds = rgr.predict(heal_sce)"
   ]
  },
  {
   "cell_type": "code",
   "execution_count": 72,
   "metadata": {},
   "outputs": [],
   "source": [
    "k12_preds = rgr.predict(k12_sce)"
   ]
  },
  {
   "cell_type": "code",
   "execution_count": 74,
   "metadata": {},
   "outputs": [],
   "source": [
    "lodg_preds = rgr.predict(lodg_sce)"
   ]
  },
  {
   "cell_type": "code",
   "execution_count": 76,
   "metadata": {},
   "outputs": [],
   "source": [
    "off_preds = rgr.predict(off_sce)"
   ]
  },
  {
   "cell_type": "code",
   "execution_count": 78,
   "metadata": {},
   "outputs": [],
   "source": [
    "res_preds = rgr.predict(res_sce)"
   ]
  },
  {
   "cell_type": "code",
   "execution_count": 80,
   "metadata": {},
   "outputs": [],
   "source": [
    "sar_preds = rgr.predict(sar_sce)"
   ]
  },
  {
   "cell_type": "code",
   "execution_count": 93,
   "metadata": {},
   "outputs": [],
   "source": [
    "date = pd.date_range(start='1/1/1991', periods=len(date_col), freq='D')\n",
    "cons_preds = pd.DataFrame(data=date,columns=['Date'])"
   ]
  },
  {
   "cell_type": "code",
   "execution_count": 94,
   "metadata": {},
   "outputs": [],
   "source": [
    "cons_preds['food'] = food_preds\n",
    "cons_preds['groc'] = groc_preds\n",
    "cons_preds['heal'] = heal_preds\n",
    "cons_preds['k12'] = k12_preds\n",
    "cons_preds['lodg'] = lodg_preds\n",
    "cons_preds['off'] = off_preds\n",
    "cons_preds['res'] = res_preds\n",
    "cons_preds['sar'] = sar_preds"
   ]
  },
  {
   "cell_type": "code",
   "execution_count": 95,
   "metadata": {},
   "outputs": [
    {
     "data": {
      "text/html": [
       "<div>\n",
       "<style scoped>\n",
       "    .dataframe tbody tr th:only-of-type {\n",
       "        vertical-align: middle;\n",
       "    }\n",
       "\n",
       "    .dataframe tbody tr th {\n",
       "        vertical-align: top;\n",
       "    }\n",
       "\n",
       "    .dataframe thead th {\n",
       "        text-align: right;\n",
       "    }\n",
       "</style>\n",
       "<table border=\"1\" class=\"dataframe\">\n",
       "  <thead>\n",
       "    <tr style=\"text-align: right;\">\n",
       "      <th></th>\n",
       "      <th>Date</th>\n",
       "      <th>food</th>\n",
       "      <th>groc</th>\n",
       "      <th>heal</th>\n",
       "      <th>k12</th>\n",
       "      <th>lodg</th>\n",
       "      <th>off</th>\n",
       "      <th>res</th>\n",
       "      <th>sar</th>\n",
       "    </tr>\n",
       "  </thead>\n",
       "  <tbody>\n",
       "    <tr>\n",
       "      <th>0</th>\n",
       "      <td>1991-01-01</td>\n",
       "      <td>8173.612688</td>\n",
       "      <td>1893.913216</td>\n",
       "      <td>3613.080173</td>\n",
       "      <td>2880.500624</td>\n",
       "      <td>1353.535334</td>\n",
       "      <td>17343.477515</td>\n",
       "      <td>62042.389154</td>\n",
       "      <td>1138.628554</td>\n",
       "    </tr>\n",
       "    <tr>\n",
       "      <th>1</th>\n",
       "      <td>1991-01-02</td>\n",
       "      <td>8167.324305</td>\n",
       "      <td>2064.857384</td>\n",
       "      <td>3355.436964</td>\n",
       "      <td>3723.808706</td>\n",
       "      <td>1435.034442</td>\n",
       "      <td>25631.594845</td>\n",
       "      <td>63272.146877</td>\n",
       "      <td>1492.348711</td>\n",
       "    </tr>\n",
       "    <tr>\n",
       "      <th>2</th>\n",
       "      <td>1991-01-03</td>\n",
       "      <td>8165.271378</td>\n",
       "      <td>2066.868242</td>\n",
       "      <td>3233.368489</td>\n",
       "      <td>3666.077448</td>\n",
       "      <td>1561.987816</td>\n",
       "      <td>25708.136973</td>\n",
       "      <td>64457.735595</td>\n",
       "      <td>1500.469203</td>\n",
       "    </tr>\n",
       "  </tbody>\n",
       "</table>\n",
       "</div>"
      ],
      "text/plain": [
       "        Date         food         groc         heal          k12         lodg  \\\n",
       "0 1991-01-01  8173.612688  1893.913216  3613.080173  2880.500624  1353.535334   \n",
       "1 1991-01-02  8167.324305  2064.857384  3355.436964  3723.808706  1435.034442   \n",
       "2 1991-01-03  8165.271378  2066.868242  3233.368489  3666.077448  1561.987816   \n",
       "\n",
       "            off           res          sar  \n",
       "0  17343.477515  62042.389154  1138.628554  \n",
       "1  25631.594845  63272.146877  1492.348711  \n",
       "2  25708.136973  64457.735595  1500.469203  "
      ]
     },
     "execution_count": 95,
     "metadata": {},
     "output_type": "execute_result"
    }
   ],
   "source": [
    "cons_preds[:3]"
   ]
  },
  {
   "cell_type": "code",
   "execution_count": 96,
   "metadata": {},
   "outputs": [
    {
     "data": {
      "text/plain": [
       "(364, 9)"
      ]
     },
     "execution_count": 96,
     "metadata": {},
     "output_type": "execute_result"
    }
   ],
   "source": [
    "cons_preds.shape"
   ]
  },
  {
   "cell_type": "code",
   "execution_count": 97,
   "metadata": {},
   "outputs": [],
   "source": [
    "cons_preds['Total'] = cons_preds.sum(axis = 1, skipna = True)"
   ]
  },
  {
   "cell_type": "code",
   "execution_count": 98,
   "metadata": {},
   "outputs": [
    {
     "data": {
      "text/html": [
       "<div>\n",
       "<style scoped>\n",
       "    .dataframe tbody tr th:only-of-type {\n",
       "        vertical-align: middle;\n",
       "    }\n",
       "\n",
       "    .dataframe tbody tr th {\n",
       "        vertical-align: top;\n",
       "    }\n",
       "\n",
       "    .dataframe thead th {\n",
       "        text-align: right;\n",
       "    }\n",
       "</style>\n",
       "<table border=\"1\" class=\"dataframe\">\n",
       "  <thead>\n",
       "    <tr style=\"text-align: right;\">\n",
       "      <th></th>\n",
       "      <th>Date</th>\n",
       "      <th>food</th>\n",
       "      <th>groc</th>\n",
       "      <th>heal</th>\n",
       "      <th>k12</th>\n",
       "      <th>lodg</th>\n",
       "      <th>off</th>\n",
       "      <th>res</th>\n",
       "      <th>sar</th>\n",
       "      <th>Total</th>\n",
       "    </tr>\n",
       "  </thead>\n",
       "  <tbody>\n",
       "    <tr>\n",
       "      <th>0</th>\n",
       "      <td>1991-01-01</td>\n",
       "      <td>8173.612688</td>\n",
       "      <td>1893.913216</td>\n",
       "      <td>3613.080173</td>\n",
       "      <td>2880.500624</td>\n",
       "      <td>1353.535334</td>\n",
       "      <td>17343.477515</td>\n",
       "      <td>62042.389154</td>\n",
       "      <td>1138.628554</td>\n",
       "      <td>98439.137259</td>\n",
       "    </tr>\n",
       "    <tr>\n",
       "      <th>1</th>\n",
       "      <td>1991-01-02</td>\n",
       "      <td>8167.324305</td>\n",
       "      <td>2064.857384</td>\n",
       "      <td>3355.436964</td>\n",
       "      <td>3723.808706</td>\n",
       "      <td>1435.034442</td>\n",
       "      <td>25631.594845</td>\n",
       "      <td>63272.146877</td>\n",
       "      <td>1492.348711</td>\n",
       "      <td>109142.552234</td>\n",
       "    </tr>\n",
       "    <tr>\n",
       "      <th>2</th>\n",
       "      <td>1991-01-03</td>\n",
       "      <td>8165.271378</td>\n",
       "      <td>2066.868242</td>\n",
       "      <td>3233.368489</td>\n",
       "      <td>3666.077448</td>\n",
       "      <td>1561.987816</td>\n",
       "      <td>25708.136973</td>\n",
       "      <td>64457.735595</td>\n",
       "      <td>1500.469203</td>\n",
       "      <td>110359.915144</td>\n",
       "    </tr>\n",
       "  </tbody>\n",
       "</table>\n",
       "</div>"
      ],
      "text/plain": [
       "        Date         food         groc         heal          k12         lodg  \\\n",
       "0 1991-01-01  8173.612688  1893.913216  3613.080173  2880.500624  1353.535334   \n",
       "1 1991-01-02  8167.324305  2064.857384  3355.436964  3723.808706  1435.034442   \n",
       "2 1991-01-03  8165.271378  2066.868242  3233.368489  3666.077448  1561.987816   \n",
       "\n",
       "            off           res          sar          Total  \n",
       "0  17343.477515  62042.389154  1138.628554   98439.137259  \n",
       "1  25631.594845  63272.146877  1492.348711  109142.552234  \n",
       "2  25708.136973  64457.735595  1500.469203  110359.915144  "
      ]
     },
     "execution_count": 98,
     "metadata": {},
     "output_type": "execute_result"
    }
   ],
   "source": [
    "cons_preds[:3]"
   ]
  },
  {
   "cell_type": "code",
   "execution_count": 99,
   "metadata": {},
   "outputs": [],
   "source": [
    "export = cons_preds.to_csv (r'D:/DSC672_PAC/Final_Project/ConsPreds.csv', index = None, header=True)"
   ]
  },
  {
   "cell_type": "markdown",
   "metadata": {},
   "source": [
    "## Neural nets by Keras"
   ]
  },
  {
   "cell_type": "code",
   "execution_count": 12,
   "metadata": {},
   "outputs": [],
   "source": [
    "#function to convert time-series data to supervised learning dataframes \n",
    "#this function code is borrowed from this sorce:\n",
    "#https://machinelearningmastery.com/multivariate-time-series-forecasting-lstms-keras/\n",
    "\n",
    "def series_to_supervised(data, n_in=1, n_out=1, dropnan=True):\n",
    "    \"\"\"\n",
    "    Frame a time series as a supervised learning dataset.\n",
    "    Arguments:\n",
    "        data: Sequence of observations as a list or NumPy array.\n",
    "        n_in: Number of lag observations as input (X).\n",
    "        n_out: Number of observations as output (y).\n",
    "        dropnan: Boolean whether or not to drop rows with NaN values.\n",
    "    Returns:\n",
    "        Pandas DataFrame of series framed for supervised learning.\n",
    "    \"\"\"\n",
    "    n_vars = 1 if type(data) is list else data.shape[1]\n",
    "    df = DataFrame(data)\n",
    "    cols, names = list(), list()\n",
    "    # input sequence (t-n, ... t-1)\n",
    "    for i in range(n_in, 0, -1):\n",
    "        cols.append(df.shift(i))\n",
    "        names += [('var%d(t-%d)' % (j+1, i)) for j in range(n_vars)]\n",
    "    # forecast sequence (t, t+1, ... t+n)\n",
    "    for i in range(0, n_out):\n",
    "        cols.append(df.shift(-i))\n",
    "        if i == 0:\n",
    "            names += [('var%d(t)' % (j+1)) for j in range(n_vars)]\n",
    "        else:\n",
    "            names += [('var%d(t+%d)' % (j+1, i)) for j in range(n_vars)]\n",
    "    # put it all together\n",
    "    agg = concat(cols, axis=1)\n",
    "    agg.columns = names\n",
    "    # drop rows with NaN values\n",
    "    if dropnan:\n",
    "        agg.dropna(inplace=True)\n",
    "    return agg"
   ]
  },
  {
   "cell_type": "code",
   "execution_count": 17,
   "metadata": {},
   "outputs": [],
   "source": [
    "os.chdir('D:/DSC672_PAC/Final_Project/Daily_Agg')"
   ]
  },
  {
   "cell_type": "code",
   "execution_count": 19,
   "metadata": {},
   "outputs": [],
   "source": [
    "#import aggregated wind data (before feature selection, shuffle and split were performed to split train/test)\n",
    "solar_tr_nn = read_csv('solar_agg.csv', index_col=False)"
   ]
  },
  {
   "cell_type": "code",
   "execution_count": 21,
   "metadata": {},
   "outputs": [
    {
     "data": {
      "text/html": [
       "<div>\n",
       "<style scoped>\n",
       "    .dataframe tbody tr th:only-of-type {\n",
       "        vertical-align: middle;\n",
       "    }\n",
       "\n",
       "    .dataframe tbody tr th {\n",
       "        vertical-align: top;\n",
       "    }\n",
       "\n",
       "    .dataframe thead th {\n",
       "        text-align: right;\n",
       "    }\n",
       "</style>\n",
       "<table border=\"1\" class=\"dataframe\">\n",
       "  <thead>\n",
       "    <tr style=\"text-align: right;\">\n",
       "      <th></th>\n",
       "      <th>Weekend</th>\n",
       "      <th>Electricity_KW_HR_AVG</th>\n",
       "      <th>Solar_Elevation_AVG</th>\n",
       "      <th>Cloud_Cover_Fraction_AVG</th>\n",
       "      <th>Dew_Point_AVG</th>\n",
       "      <th>Humidity_Fraction_AVG</th>\n",
       "      <th>Precipitation_AVG</th>\n",
       "      <th>Pressure_AVG</th>\n",
       "      <th>Temperature_AVG</th>\n",
       "      <th>Visibility_AVG</th>\n",
       "      <th>...</th>\n",
       "      <th>Day_of_week_2</th>\n",
       "      <th>Day_of_week_3</th>\n",
       "      <th>Day_of_week_4</th>\n",
       "      <th>Day_of_week_5</th>\n",
       "      <th>Day_of_week_6</th>\n",
       "      <th>Day_of_week_7</th>\n",
       "      <th>Season_Autumn</th>\n",
       "      <th>Season_Spring</th>\n",
       "      <th>Season_Summer</th>\n",
       "      <th>Season_Winter</th>\n",
       "    </tr>\n",
       "  </thead>\n",
       "  <tbody>\n",
       "    <tr>\n",
       "      <th>0</th>\n",
       "      <td>0</td>\n",
       "      <td>10042.0800</td>\n",
       "      <td>13.121416</td>\n",
       "      <td>1.0</td>\n",
       "      <td>-8.3</td>\n",
       "      <td>0.6984</td>\n",
       "      <td>0.0</td>\n",
       "      <td>0.0</td>\n",
       "      <td>-3.600</td>\n",
       "      <td>16.09300</td>\n",
       "      <td>...</td>\n",
       "      <td>1</td>\n",
       "      <td>0</td>\n",
       "      <td>0</td>\n",
       "      <td>0</td>\n",
       "      <td>0</td>\n",
       "      <td>0</td>\n",
       "      <td>0</td>\n",
       "      <td>0</td>\n",
       "      <td>0</td>\n",
       "      <td>1</td>\n",
       "    </tr>\n",
       "    <tr>\n",
       "      <th>1</th>\n",
       "      <td>0</td>\n",
       "      <td>13925.2625</td>\n",
       "      <td>16.887491</td>\n",
       "      <td>1.0</td>\n",
       "      <td>-7.0</td>\n",
       "      <td>0.7894</td>\n",
       "      <td>0.0</td>\n",
       "      <td>0.0</td>\n",
       "      <td>-3.875</td>\n",
       "      <td>15.08725</td>\n",
       "      <td>...</td>\n",
       "      <td>0</td>\n",
       "      <td>1</td>\n",
       "      <td>0</td>\n",
       "      <td>0</td>\n",
       "      <td>0</td>\n",
       "      <td>0</td>\n",
       "      <td>0</td>\n",
       "      <td>0</td>\n",
       "      <td>0</td>\n",
       "      <td>1</td>\n",
       "    </tr>\n",
       "  </tbody>\n",
       "</table>\n",
       "<p>2 rows × 65 columns</p>\n",
       "</div>"
      ],
      "text/plain": [
       "   Weekend  Electricity_KW_HR_AVG  Solar_Elevation_AVG  \\\n",
       "0        0             10042.0800            13.121416   \n",
       "1        0             13925.2625            16.887491   \n",
       "\n",
       "   Cloud_Cover_Fraction_AVG  Dew_Point_AVG  Humidity_Fraction_AVG  \\\n",
       "0                       1.0           -8.3                 0.6984   \n",
       "1                       1.0           -7.0                 0.7894   \n",
       "\n",
       "   Precipitation_AVG  Pressure_AVG  Temperature_AVG  Visibility_AVG  ...  \\\n",
       "0                0.0           0.0           -3.600        16.09300  ...   \n",
       "1                0.0           0.0           -3.875        15.08725  ...   \n",
       "\n",
       "   Day_of_week_2  Day_of_week_3  Day_of_week_4  Day_of_week_5  Day_of_week_6  \\\n",
       "0              1              0              0              0              0   \n",
       "1              0              1              0              0              0   \n",
       "\n",
       "   Day_of_week_7  Season_Autumn  Season_Spring  Season_Summer  Season_Winter  \n",
       "0              0              0              0              0              1  \n",
       "1              0              0              0              0              1  \n",
       "\n",
       "[2 rows x 65 columns]"
      ]
     },
     "execution_count": 21,
     "metadata": {},
     "output_type": "execute_result"
    }
   ],
   "source": [
    "solar_tr_nn[:2]"
   ]
  },
  {
   "cell_type": "code",
   "execution_count": 150,
   "metadata": {},
   "outputs": [
    {
     "name": "stdout",
     "output_type": "stream",
     "text": [
      "Date_Time\n",
      "Season_Winter\n"
     ]
    }
   ],
   "source": [
    "#select vars to drop\n",
    "#headers = list(solar_tr_nn.columns)\n",
    "#col_drop = headers[:2]\n",
    "#col_drop1 = headers[4:]\n",
    "#col_drop.extend(col_drop1)\n",
    "\n",
    "#print(col_drop[0])       #first column to drop\n",
    "#print(col_drop[-1])      #last column to drop"
   ]
  },
  {
   "cell_type": "code",
   "execution_count": 151,
   "metadata": {},
   "outputs": [],
   "source": [
    "#drop columns selected above\n",
    "#wind_tr_nn = wind_tr_nn.drop(columns = col_drop)"
   ]
  },
  {
   "cell_type": "code",
   "execution_count": 152,
   "metadata": {},
   "outputs": [],
   "source": [
    "#switch column positions\n",
    "#cols = wind_tr_nn.columns.tolist()\n",
    "#cols = cols[-1:] + cols[:-1]\n",
    "#wind_tr_nn = wind_tr_nn[cols]\n",
    "#wind_tr_nn[:3]"
   ]
  },
  {
   "cell_type": "code",
   "execution_count": 22,
   "metadata": {},
   "outputs": [],
   "source": [
    "#place column Electricity_KW_HR_AVG to the last column\n",
    "last_col = solar_tr_nn['Electricity_KW_HR_AVG']\n",
    "solar_tr_nn = solar_tr_nn.drop(columns = ['Electricity_KW_HR_AVG'])\n",
    "solar_tr_nn['Electricity_KW_HR_AVG'] = last_col"
   ]
  },
  {
   "cell_type": "code",
   "execution_count": 23,
   "metadata": {},
   "outputs": [
    {
     "data": {
      "text/html": [
       "<div>\n",
       "<style scoped>\n",
       "    .dataframe tbody tr th:only-of-type {\n",
       "        vertical-align: middle;\n",
       "    }\n",
       "\n",
       "    .dataframe tbody tr th {\n",
       "        vertical-align: top;\n",
       "    }\n",
       "\n",
       "    .dataframe thead th {\n",
       "        text-align: right;\n",
       "    }\n",
       "</style>\n",
       "<table border=\"1\" class=\"dataframe\">\n",
       "  <thead>\n",
       "    <tr style=\"text-align: right;\">\n",
       "      <th></th>\n",
       "      <th>Weekend</th>\n",
       "      <th>Solar_Elevation_AVG</th>\n",
       "      <th>Cloud_Cover_Fraction_AVG</th>\n",
       "      <th>Dew_Point_AVG</th>\n",
       "      <th>Humidity_Fraction_AVG</th>\n",
       "      <th>Precipitation_AVG</th>\n",
       "      <th>Pressure_AVG</th>\n",
       "      <th>Temperature_AVG</th>\n",
       "      <th>Visibility_AVG</th>\n",
       "      <th>Wind_Speed_AVG</th>\n",
       "      <th>...</th>\n",
       "      <th>Day_of_week_3</th>\n",
       "      <th>Day_of_week_4</th>\n",
       "      <th>Day_of_week_5</th>\n",
       "      <th>Day_of_week_6</th>\n",
       "      <th>Day_of_week_7</th>\n",
       "      <th>Season_Autumn</th>\n",
       "      <th>Season_Spring</th>\n",
       "      <th>Season_Summer</th>\n",
       "      <th>Season_Winter</th>\n",
       "      <th>Electricity_KW_HR_AVG</th>\n",
       "    </tr>\n",
       "  </thead>\n",
       "  <tbody>\n",
       "    <tr>\n",
       "      <th>0</th>\n",
       "      <td>0</td>\n",
       "      <td>13.121416</td>\n",
       "      <td>1.0</td>\n",
       "      <td>-8.3</td>\n",
       "      <td>0.6984</td>\n",
       "      <td>0.0</td>\n",
       "      <td>0.0</td>\n",
       "      <td>-3.600</td>\n",
       "      <td>16.09300</td>\n",
       "      <td>4.65</td>\n",
       "      <td>...</td>\n",
       "      <td>0</td>\n",
       "      <td>0</td>\n",
       "      <td>0</td>\n",
       "      <td>0</td>\n",
       "      <td>0</td>\n",
       "      <td>0</td>\n",
       "      <td>0</td>\n",
       "      <td>0</td>\n",
       "      <td>1</td>\n",
       "      <td>10042.0800</td>\n",
       "    </tr>\n",
       "    <tr>\n",
       "      <th>1</th>\n",
       "      <td>0</td>\n",
       "      <td>16.887491</td>\n",
       "      <td>1.0</td>\n",
       "      <td>-7.0</td>\n",
       "      <td>0.7894</td>\n",
       "      <td>0.0</td>\n",
       "      <td>0.0</td>\n",
       "      <td>-3.875</td>\n",
       "      <td>15.08725</td>\n",
       "      <td>4.25</td>\n",
       "      <td>...</td>\n",
       "      <td>1</td>\n",
       "      <td>0</td>\n",
       "      <td>0</td>\n",
       "      <td>0</td>\n",
       "      <td>0</td>\n",
       "      <td>0</td>\n",
       "      <td>0</td>\n",
       "      <td>0</td>\n",
       "      <td>1</td>\n",
       "      <td>13925.2625</td>\n",
       "    </tr>\n",
       "  </tbody>\n",
       "</table>\n",
       "<p>2 rows × 65 columns</p>\n",
       "</div>"
      ],
      "text/plain": [
       "   Weekend  Solar_Elevation_AVG  Cloud_Cover_Fraction_AVG  Dew_Point_AVG  \\\n",
       "0        0            13.121416                       1.0           -8.3   \n",
       "1        0            16.887491                       1.0           -7.0   \n",
       "\n",
       "   Humidity_Fraction_AVG  Precipitation_AVG  Pressure_AVG  Temperature_AVG  \\\n",
       "0                 0.6984                0.0           0.0           -3.600   \n",
       "1                 0.7894                0.0           0.0           -3.875   \n",
       "\n",
       "   Visibility_AVG  Wind_Speed_AVG  ...  Day_of_week_3  Day_of_week_4  \\\n",
       "0        16.09300            4.65  ...              0              0   \n",
       "1        15.08725            4.25  ...              1              0   \n",
       "\n",
       "   Day_of_week_5  Day_of_week_6  Day_of_week_7  Season_Autumn  Season_Spring  \\\n",
       "0              0              0              0              0              0   \n",
       "1              0              0              0              0              0   \n",
       "\n",
       "   Season_Summer  Season_Winter  Electricity_KW_HR_AVG  \n",
       "0              0              1             10042.0800  \n",
       "1              0              1             13925.2625  \n",
       "\n",
       "[2 rows x 65 columns]"
      ]
     },
     "execution_count": 23,
     "metadata": {},
     "output_type": "execute_result"
    }
   ],
   "source": [
    "solar_tr_nn[:2]"
   ]
  },
  {
   "cell_type": "code",
   "execution_count": 154,
   "metadata": {},
   "outputs": [],
   "source": [
    "#using series_to_supervised(), frame as supervised learning, with 24-hour timesteps\n",
    "solar_reframed = series_to_supervised(solar_tr_nn, 24, 1)\n",
    "solar_reframed.shape"
   ]
  },
  {
   "cell_type": "code",
   "execution_count": 155,
   "metadata": {},
   "outputs": [
    {
     "data": {
      "text/html": [
       "<div>\n",
       "<style scoped>\n",
       "    .dataframe tbody tr th:only-of-type {\n",
       "        vertical-align: middle;\n",
       "    }\n",
       "\n",
       "    .dataframe tbody tr th {\n",
       "        vertical-align: top;\n",
       "    }\n",
       "\n",
       "    .dataframe thead th {\n",
       "        text-align: right;\n",
       "    }\n",
       "</style>\n",
       "<table border=\"1\" class=\"dataframe\">\n",
       "  <thead>\n",
       "    <tr style=\"text-align: right;\">\n",
       "      <th></th>\n",
       "      <th>var1(t-24)</th>\n",
       "      <th>var2(t-24)</th>\n",
       "      <th>var1(t-23)</th>\n",
       "      <th>var2(t-23)</th>\n",
       "      <th>var1(t-22)</th>\n",
       "      <th>var2(t-22)</th>\n",
       "      <th>var1(t-21)</th>\n",
       "      <th>var2(t-21)</th>\n",
       "      <th>var1(t-20)</th>\n",
       "      <th>var2(t-20)</th>\n",
       "      <th>...</th>\n",
       "      <th>var1(t-4)</th>\n",
       "      <th>var2(t-4)</th>\n",
       "      <th>var1(t-3)</th>\n",
       "      <th>var2(t-3)</th>\n",
       "      <th>var1(t-2)</th>\n",
       "      <th>var2(t-2)</th>\n",
       "      <th>var1(t-1)</th>\n",
       "      <th>var2(t-1)</th>\n",
       "      <th>var1(t)</th>\n",
       "      <th>var2(t)</th>\n",
       "    </tr>\n",
       "  </thead>\n",
       "  <tbody>\n",
       "    <tr>\n",
       "      <th>24</th>\n",
       "      <td>3.308333</td>\n",
       "      <td>2145.666667</td>\n",
       "      <td>4.987500</td>\n",
       "      <td>6650.666667</td>\n",
       "      <td>4.391667</td>\n",
       "      <td>4763.166667</td>\n",
       "      <td>3.808333</td>\n",
       "      <td>2943.000000</td>\n",
       "      <td>3.383333</td>\n",
       "      <td>2342.166667</td>\n",
       "      <td>...</td>\n",
       "      <td>2.129167</td>\n",
       "      <td>407.500000</td>\n",
       "      <td>3.629167</td>\n",
       "      <td>2409.833333</td>\n",
       "      <td>2.766667</td>\n",
       "      <td>1675.666667</td>\n",
       "      <td>3.279167</td>\n",
       "      <td>2528.833333</td>\n",
       "      <td>4.145833</td>\n",
       "      <td>4262.333333</td>\n",
       "    </tr>\n",
       "    <tr>\n",
       "      <th>25</th>\n",
       "      <td>4.987500</td>\n",
       "      <td>6650.666667</td>\n",
       "      <td>4.391667</td>\n",
       "      <td>4763.166667</td>\n",
       "      <td>3.808333</td>\n",
       "      <td>2943.000000</td>\n",
       "      <td>3.383333</td>\n",
       "      <td>2342.166667</td>\n",
       "      <td>5.758333</td>\n",
       "      <td>6316.833333</td>\n",
       "      <td>...</td>\n",
       "      <td>3.629167</td>\n",
       "      <td>2409.833333</td>\n",
       "      <td>2.766667</td>\n",
       "      <td>1675.666667</td>\n",
       "      <td>3.279167</td>\n",
       "      <td>2528.833333</td>\n",
       "      <td>4.145833</td>\n",
       "      <td>4262.333333</td>\n",
       "      <td>4.470833</td>\n",
       "      <td>6599.333333</td>\n",
       "    </tr>\n",
       "    <tr>\n",
       "      <th>26</th>\n",
       "      <td>4.391667</td>\n",
       "      <td>4763.166667</td>\n",
       "      <td>3.808333</td>\n",
       "      <td>2943.000000</td>\n",
       "      <td>3.383333</td>\n",
       "      <td>2342.166667</td>\n",
       "      <td>5.758333</td>\n",
       "      <td>6316.833333</td>\n",
       "      <td>9.175000</td>\n",
       "      <td>17087.000000</td>\n",
       "      <td>...</td>\n",
       "      <td>2.766667</td>\n",
       "      <td>1675.666667</td>\n",
       "      <td>3.279167</td>\n",
       "      <td>2528.833333</td>\n",
       "      <td>4.145833</td>\n",
       "      <td>4262.333333</td>\n",
       "      <td>4.470833</td>\n",
       "      <td>6599.333333</td>\n",
       "      <td>3.537500</td>\n",
       "      <td>2592.000000</td>\n",
       "    </tr>\n",
       "  </tbody>\n",
       "</table>\n",
       "<p>3 rows × 50 columns</p>\n",
       "</div>"
      ],
      "text/plain": [
       "    var1(t-24)   var2(t-24)  var1(t-23)   var2(t-23)  var1(t-22)   var2(t-22)  \\\n",
       "24    3.308333  2145.666667    4.987500  6650.666667    4.391667  4763.166667   \n",
       "25    4.987500  6650.666667    4.391667  4763.166667    3.808333  2943.000000   \n",
       "26    4.391667  4763.166667    3.808333  2943.000000    3.383333  2342.166667   \n",
       "\n",
       "    var1(t-21)   var2(t-21)  var1(t-20)    var2(t-20)  ...  var1(t-4)  \\\n",
       "24    3.808333  2943.000000    3.383333   2342.166667  ...   2.129167   \n",
       "25    3.383333  2342.166667    5.758333   6316.833333  ...   3.629167   \n",
       "26    5.758333  6316.833333    9.175000  17087.000000  ...   2.766667   \n",
       "\n",
       "      var2(t-4)  var1(t-3)    var2(t-3)  var1(t-2)    var2(t-2)  var1(t-1)  \\\n",
       "24   407.500000   3.629167  2409.833333   2.766667  1675.666667   3.279167   \n",
       "25  2409.833333   2.766667  1675.666667   3.279167  2528.833333   4.145833   \n",
       "26  1675.666667   3.279167  2528.833333   4.145833  4262.333333   4.470833   \n",
       "\n",
       "      var2(t-1)   var1(t)      var2(t)  \n",
       "24  2528.833333  4.145833  4262.333333  \n",
       "25  4262.333333  4.470833  6599.333333  \n",
       "26  6599.333333  3.537500  2592.000000  \n",
       "\n",
       "[3 rows x 50 columns]"
      ]
     },
     "execution_count": 155,
     "metadata": {},
     "output_type": "execute_result"
    }
   ],
   "source": [
    "wind_reframed[:3]"
   ]
  },
  {
   "cell_type": "code",
   "execution_count": 157,
   "metadata": {},
   "outputs": [
    {
     "data": {
      "text/plain": [
       "['var1(t)']"
      ]
     },
     "execution_count": 157,
     "metadata": {},
     "output_type": "execute_result"
    }
   ],
   "source": [
    "#drop column(s) of var(s) that we don't want to predict\n",
    "drop = []\n",
    "nn_headers = list(wind_reframed.columns)\n",
    "cols = (nn_headers[-2])\n",
    "drop.append(cols)\n",
    "drop"
   ]
  },
  {
   "cell_type": "code",
   "execution_count": 158,
   "metadata": {},
   "outputs": [
    {
     "data": {
      "text/html": [
       "<div>\n",
       "<style scoped>\n",
       "    .dataframe tbody tr th:only-of-type {\n",
       "        vertical-align: middle;\n",
       "    }\n",
       "\n",
       "    .dataframe tbody tr th {\n",
       "        vertical-align: top;\n",
       "    }\n",
       "\n",
       "    .dataframe thead th {\n",
       "        text-align: right;\n",
       "    }\n",
       "</style>\n",
       "<table border=\"1\" class=\"dataframe\">\n",
       "  <thead>\n",
       "    <tr style=\"text-align: right;\">\n",
       "      <th></th>\n",
       "      <th>var1(t-24)</th>\n",
       "      <th>var2(t-24)</th>\n",
       "      <th>var1(t-23)</th>\n",
       "      <th>var2(t-23)</th>\n",
       "      <th>var1(t-22)</th>\n",
       "      <th>var2(t-22)</th>\n",
       "      <th>var1(t-21)</th>\n",
       "      <th>var2(t-21)</th>\n",
       "      <th>var1(t-20)</th>\n",
       "      <th>var2(t-20)</th>\n",
       "      <th>...</th>\n",
       "      <th>var2(t-5)</th>\n",
       "      <th>var1(t-4)</th>\n",
       "      <th>var2(t-4)</th>\n",
       "      <th>var1(t-3)</th>\n",
       "      <th>var2(t-3)</th>\n",
       "      <th>var1(t-2)</th>\n",
       "      <th>var2(t-2)</th>\n",
       "      <th>var1(t-1)</th>\n",
       "      <th>var2(t-1)</th>\n",
       "      <th>var2(t)</th>\n",
       "    </tr>\n",
       "  </thead>\n",
       "  <tbody>\n",
       "    <tr>\n",
       "      <th>24</th>\n",
       "      <td>3.308333</td>\n",
       "      <td>2145.666667</td>\n",
       "      <td>4.987500</td>\n",
       "      <td>6650.666667</td>\n",
       "      <td>4.391667</td>\n",
       "      <td>4763.166667</td>\n",
       "      <td>3.808333</td>\n",
       "      <td>2943.000000</td>\n",
       "      <td>3.383333</td>\n",
       "      <td>2342.166667</td>\n",
       "      <td>...</td>\n",
       "      <td>3598.833333</td>\n",
       "      <td>2.129167</td>\n",
       "      <td>407.500000</td>\n",
       "      <td>3.629167</td>\n",
       "      <td>2409.833333</td>\n",
       "      <td>2.766667</td>\n",
       "      <td>1675.666667</td>\n",
       "      <td>3.279167</td>\n",
       "      <td>2528.833333</td>\n",
       "      <td>4262.333333</td>\n",
       "    </tr>\n",
       "    <tr>\n",
       "      <th>25</th>\n",
       "      <td>4.987500</td>\n",
       "      <td>6650.666667</td>\n",
       "      <td>4.391667</td>\n",
       "      <td>4763.166667</td>\n",
       "      <td>3.808333</td>\n",
       "      <td>2943.000000</td>\n",
       "      <td>3.383333</td>\n",
       "      <td>2342.166667</td>\n",
       "      <td>5.758333</td>\n",
       "      <td>6316.833333</td>\n",
       "      <td>...</td>\n",
       "      <td>407.500000</td>\n",
       "      <td>3.629167</td>\n",
       "      <td>2409.833333</td>\n",
       "      <td>2.766667</td>\n",
       "      <td>1675.666667</td>\n",
       "      <td>3.279167</td>\n",
       "      <td>2528.833333</td>\n",
       "      <td>4.145833</td>\n",
       "      <td>4262.333333</td>\n",
       "      <td>6599.333333</td>\n",
       "    </tr>\n",
       "    <tr>\n",
       "      <th>26</th>\n",
       "      <td>4.391667</td>\n",
       "      <td>4763.166667</td>\n",
       "      <td>3.808333</td>\n",
       "      <td>2943.000000</td>\n",
       "      <td>3.383333</td>\n",
       "      <td>2342.166667</td>\n",
       "      <td>5.758333</td>\n",
       "      <td>6316.833333</td>\n",
       "      <td>9.175000</td>\n",
       "      <td>17087.000000</td>\n",
       "      <td>...</td>\n",
       "      <td>2409.833333</td>\n",
       "      <td>2.766667</td>\n",
       "      <td>1675.666667</td>\n",
       "      <td>3.279167</td>\n",
       "      <td>2528.833333</td>\n",
       "      <td>4.145833</td>\n",
       "      <td>4262.333333</td>\n",
       "      <td>4.470833</td>\n",
       "      <td>6599.333333</td>\n",
       "      <td>2592.000000</td>\n",
       "    </tr>\n",
       "  </tbody>\n",
       "</table>\n",
       "<p>3 rows × 49 columns</p>\n",
       "</div>"
      ],
      "text/plain": [
       "    var1(t-24)   var2(t-24)  var1(t-23)   var2(t-23)  var1(t-22)   var2(t-22)  \\\n",
       "24    3.308333  2145.666667    4.987500  6650.666667    4.391667  4763.166667   \n",
       "25    4.987500  6650.666667    4.391667  4763.166667    3.808333  2943.000000   \n",
       "26    4.391667  4763.166667    3.808333  2943.000000    3.383333  2342.166667   \n",
       "\n",
       "    var1(t-21)   var2(t-21)  var1(t-20)    var2(t-20)  ...    var2(t-5)  \\\n",
       "24    3.808333  2943.000000    3.383333   2342.166667  ...  3598.833333   \n",
       "25    3.383333  2342.166667    5.758333   6316.833333  ...   407.500000   \n",
       "26    5.758333  6316.833333    9.175000  17087.000000  ...  2409.833333   \n",
       "\n",
       "    var1(t-4)    var2(t-4)  var1(t-3)    var2(t-3)  var1(t-2)    var2(t-2)  \\\n",
       "24   2.129167   407.500000   3.629167  2409.833333   2.766667  1675.666667   \n",
       "25   3.629167  2409.833333   2.766667  1675.666667   3.279167  2528.833333   \n",
       "26   2.766667  1675.666667   3.279167  2528.833333   4.145833  4262.333333   \n",
       "\n",
       "    var1(t-1)    var2(t-1)      var2(t)  \n",
       "24   3.279167  2528.833333  4262.333333  \n",
       "25   4.145833  4262.333333  6599.333333  \n",
       "26   4.470833  6599.333333  2592.000000  \n",
       "\n",
       "[3 rows x 49 columns]"
      ]
     },
     "execution_count": 158,
     "metadata": {},
     "output_type": "execute_result"
    }
   ],
   "source": [
    "wind_reframed = wind_reframed.drop(columns = drop)\n",
    "wind_reframed[:3]"
   ]
  },
  {
   "cell_type": "code",
   "execution_count": 159,
   "metadata": {},
   "outputs": [
    {
     "name": "stdout",
     "output_type": "stream",
     "text": [
      "(494, 48) (494,)\n",
      "(124, 48) (124,)\n"
     ]
    }
   ],
   "source": [
    "wind_t, wind_v = train_test_split(wind_reframed, test_size=0.2, random_state=rand)\n",
    "\n",
    "#split train and validation data into input and output\n",
    "train_values = wind_t.values  \n",
    "valid_values = wind_v.values\n",
    "\n",
    "x_train, y_train = train_values[:, :-1], train_values[:, -1]\n",
    "x_valid, y_valid = valid_values[:, :-1], valid_values[:, -1]\n",
    "\n",
    "print(x_train.shape, y_train.shape)\n",
    "print(x_valid.shape, y_valid.shape)"
   ]
  },
  {
   "cell_type": "code",
   "execution_count": 160,
   "metadata": {},
   "outputs": [
    {
     "name": "stdout",
     "output_type": "stream",
     "text": [
      "(494, 24, 2) (494,)\n",
      "(124, 24, 2) (124,)\n"
     ]
    }
   ],
   "source": [
    "# Reshape train/valid input data to be Keras-ready format [samples, timesteps, features]\n",
    "x_train = x_train.reshape((x_train.shape[0], 24, 2))\n",
    "x_valid = x_valid.reshape((x_valid.shape[0], 24, 2))\n",
    "print(x_train.shape, y_train.shape)\n",
    "print(x_valid.shape, y_valid.shape)"
   ]
  },
  {
   "cell_type": "code",
   "execution_count": 193,
   "metadata": {},
   "outputs": [
    {
     "name": "stdout",
     "output_type": "stream",
     "text": [
      "_________________________________________________________________\n",
      "Layer (type)                 Output Shape              Param #   \n",
      "=================================================================\n",
      "lstm_25 (LSTM)               (None, 24, 150)           91800     \n",
      "_________________________________________________________________\n",
      "dropout_19 (Dropout)         (None, 24, 150)           0         \n",
      "_________________________________________________________________\n",
      "lstm_26 (LSTM)               (None, 24, 300)           541200    \n",
      "_________________________________________________________________\n",
      "dropout_20 (Dropout)         (None, 24, 300)           0         \n",
      "_________________________________________________________________\n",
      "lstm_27 (LSTM)               (None, 300)               721200    \n",
      "_________________________________________________________________\n",
      "dropout_21 (Dropout)         (None, 300)               0         \n",
      "_________________________________________________________________\n",
      "dense_23 (Dense)             (None, 1)                 301       \n",
      "=================================================================\n",
      "Total params: 1,354,501\n",
      "Trainable params: 1,354,501\n",
      "Non-trainable params: 0\n",
      "_________________________________________________________________\n"
     ]
    }
   ],
   "source": [
    "# design neural net \n",
    "model = Sequential()\n",
    "model.add(LSTM(150, return_sequences=True, input_shape=(x_train.shape[1], x_train.shape[2])))\n",
    "model.add(Dropout(0.2))\n",
    "model.add(LSTM(300, return_sequences=True))\n",
    "model.add(Dropout(0.2))\n",
    "model.add(LSTM(300, return_sequences=False))\n",
    "model.add(Dropout(0.2))\n",
    "model.add(Dense(1, activation = 'relu'))  #activations tried: linear, sigmoid, tanh, softmax, relu\n",
    "\n",
    "model.compile(loss='mse', \n",
    "              optimizer='adam', \n",
    "              metrics=['mae'])\n",
    "\n",
    "model.summary()"
   ]
  },
  {
   "cell_type": "code",
   "execution_count": 201,
   "metadata": {
    "scrolled": true
   },
   "outputs": [
    {
     "name": "stdout",
     "output_type": "stream",
     "text": [
      "Train on 494 samples, validate on 124 samples\n",
      "Epoch 1/50\n",
      " - 11s - loss: 258619485.7976 - mean_absolute_error: 12404.5854 - val_loss: 257063194.0645 - val_mean_absolute_error: 11643.3653\n",
      "Epoch 2/50\n",
      " - 2s - loss: 258571669.8947 - mean_absolute_error: 12402.6572 - val_loss: 257027001.0323 - val_mean_absolute_error: 11641.8003\n",
      "Epoch 3/50\n",
      " - 2s - loss: 258533012.6964 - mean_absolute_error: 12401.0987 - val_loss: 256994521.2903 - val_mean_absolute_error: 11640.4154\n",
      "Epoch 4/50\n",
      " - 2s - loss: 258501915.3684 - mean_absolute_error: 12399.8458 - val_loss: 256965421.9355 - val_mean_absolute_error: 11639.1654\n",
      "Epoch 5/50\n",
      " - 2s - loss: 258470344.5830 - mean_absolute_error: 12398.5727 - val_loss: 256935669.1613 - val_mean_absolute_error: 11637.8856\n",
      "Epoch 6/50\n",
      " - 2s - loss: 258437546.2996 - mean_absolute_error: 12397.2499 - val_loss: 256903899.0968 - val_mean_absolute_error: 11636.5230\n",
      "Epoch 7/50\n",
      " - 3s - loss: 258405080.9717 - mean_absolute_error: 12395.9409 - val_loss: 256874237.9355 - val_mean_absolute_error: 11635.2476\n",
      "Epoch 8/50\n",
      " - 3s - loss: 258373413.5709 - mean_absolute_error: 12394.6630 - val_loss: 256843996.1290 - val_mean_absolute_error: 11633.9483\n",
      "Epoch 9/50\n",
      " - 2s - loss: 258341169.8138 - mean_absolute_error: 12393.3621 - val_loss: 256814203.6129 - val_mean_absolute_error: 11632.6678\n",
      "Epoch 10/50\n",
      " - 3s - loss: 258309441.2632 - mean_absolute_error: 12392.0813 - val_loss: 256784080.2581 - val_mean_absolute_error: 11631.3624\n",
      "Epoch 11/50\n",
      " - 3s - loss: 258276265.1984 - mean_absolute_error: 12390.7430 - val_loss: 256752896.0000 - val_mean_absolute_error: 11630.0325\n",
      "Epoch 12/50\n",
      " - 2s - loss: 258243849.2308 - mean_absolute_error: 12389.4355 - val_loss: 256722570.3226 - val_mean_absolute_error: 11628.7276\n",
      "Epoch 13/50\n",
      " - 3s - loss: 258211600.0000 - mean_absolute_error: 12388.1336 - val_loss: 256692379.3548 - val_mean_absolute_error: 11627.4297\n",
      "Epoch 14/50\n",
      " - 3s - loss: 258179475.2389 - mean_absolute_error: 12386.8374 - val_loss: 256662250.0645 - val_mean_absolute_error: 11626.1348\n",
      "Epoch 15/50\n",
      " - 2s - loss: 258147457.2955 - mean_absolute_error: 12385.5443 - val_loss: 256632273.8065 - val_mean_absolute_error: 11624.8446\n",
      "Epoch 16/50\n",
      " - 2s - loss: 258115506.6883 - mean_absolute_error: 12384.2544 - val_loss: 256602307.3548 - val_mean_absolute_error: 11623.5560\n",
      "Epoch 17/50\n",
      " - 2s - loss: 258083606.1862 - mean_absolute_error: 12382.9652 - val_loss: 256572356.9032 - val_mean_absolute_error: 11622.2620\n",
      "Epoch 18/50\n",
      " - 2s - loss: 258048648.6478 - mean_absolute_error: 12381.5528 - val_loss: 256536946.5806 - val_mean_absolute_error: 11620.7442\n",
      "Epoch 19/50\n",
      " - 2s - loss: 258012132.0486 - mean_absolute_error: 12380.0794 - val_loss: 256501542.1935 - val_mean_absolute_error: 11619.2215\n",
      "Epoch 20/50\n",
      " - 2s - loss: 257974578.0081 - mean_absolute_error: 12378.5646 - val_loss: 256468190.9677 - val_mean_absolute_error: 11617.7852\n",
      "Epoch 21/50\n",
      " - 2s - loss: 257939164.6640 - mean_absolute_error: 12377.1336 - val_loss: 256435179.0968 - val_mean_absolute_error: 11616.3646\n",
      "Epoch 22/50\n",
      " - 2s - loss: 257904193.2955 - mean_absolute_error: 12375.7207 - val_loss: 256402533.1613 - val_mean_absolute_error: 11614.9603\n",
      "Epoch 23/50\n",
      " - 2s - loss: 257869497.0364 - mean_absolute_error: 12374.3176 - val_loss: 256369480.5161 - val_mean_absolute_error: 11613.5360\n",
      "Epoch 24/50\n",
      " - 2s - loss: 257834040.3887 - mean_absolute_error: 12372.8859 - val_loss: 256336424.5161 - val_mean_absolute_error: 11612.1134\n",
      "Epoch 25/50\n",
      " - 3s - loss: 257798875.3360 - mean_absolute_error: 12371.4648 - val_loss: 256303543.4839 - val_mean_absolute_error: 11610.6973\n",
      "Epoch 26/50\n",
      " - 2s - loss: 257763968.5830 - mean_absolute_error: 12370.0536 - val_loss: 256270906.3226 - val_mean_absolute_error: 11609.2925\n",
      "Epoch 27/50\n",
      " - 3s - loss: 257729294.2834 - mean_absolute_error: 12368.6516 - val_loss: 256238494.4516 - val_mean_absolute_error: 11607.8942\n",
      "Epoch 28/50\n",
      " - 3s - loss: 257694775.5142 - mean_absolute_error: 12367.2543 - val_loss: 256203682.3226 - val_mean_absolute_error: 11606.3965\n",
      "Epoch 29/50\n",
      " - 2s - loss: 257657329.6518 - mean_absolute_error: 12365.7429 - val_loss: 256170372.3871 - val_mean_absolute_error: 11604.9615\n",
      "Epoch 30/50\n",
      " - 2s - loss: 257621727.2551 - mean_absolute_error: 12364.3032 - val_loss: 256137017.2903 - val_mean_absolute_error: 11603.5235\n",
      "Epoch 31/50\n",
      " - 2s - loss: 257586292.3077 - mean_absolute_error: 12362.8703 - val_loss: 256103913.8065 - val_mean_absolute_error: 11602.0956\n",
      "Epoch 32/50\n",
      " - 3s - loss: 257550493.6032 - mean_absolute_error: 12361.4225 - val_loss: 256069862.7097 - val_mean_absolute_error: 11600.6297\n",
      "Epoch 33/50\n",
      " - 3s - loss: 257514432.9393 - mean_absolute_error: 12359.9644 - val_loss: 256036102.4516 - val_mean_absolute_error: 11599.1751\n",
      "Epoch 34/50\n",
      " - 3s - loss: 257478593.8462 - mean_absolute_error: 12358.5142 - val_loss: 256002611.6129 - val_mean_absolute_error: 11597.7313\n",
      "Epoch 35/50\n",
      " - 3s - loss: 257443007.1579 - mean_absolute_error: 12357.0743 - val_loss: 255969305.5484 - val_mean_absolute_error: 11596.2950\n",
      "Epoch 36/50\n",
      " - 2s - loss: 257407619.4008 - mean_absolute_error: 12355.6420 - val_loss: 255936166.7097 - val_mean_absolute_error: 11594.8668\n",
      "Epoch 37/50\n",
      " - 2s - loss: 257372377.8462 - mean_absolute_error: 12354.2161 - val_loss: 255903170.3226 - val_mean_absolute_error: 11593.4441\n",
      "Epoch 38/50\n",
      " - 2s - loss: 257337274.5587 - mean_absolute_error: 12352.7952 - val_loss: 255870285.4194 - val_mean_absolute_error: 11592.0250\n",
      "Epoch 39/50\n",
      " - 2s - loss: 257302277.4737 - mean_absolute_error: 12351.3785 - val_loss: 255837504.2581 - val_mean_absolute_error: 11590.6111\n",
      "Epoch 40/50\n",
      " - 2s - loss: 257267373.8947 - mean_absolute_error: 12349.9656 - val_loss: 255804790.4516 - val_mean_absolute_error: 11589.2000\n",
      "Epoch 41/50\n",
      " - 2s - loss: 257232553.1984 - mean_absolute_error: 12348.5559 - val_loss: 255772152.7742 - val_mean_absolute_error: 11587.7911\n",
      "Epoch 42/50\n",
      " - 2s - loss: 257197805.1822 - mean_absolute_error: 12347.1487 - val_loss: 255739571.3548 - val_mean_absolute_error: 11586.3858\n",
      "Epoch 43/50\n",
      " - 2s - loss: 257163124.5668 - mean_absolute_error: 12345.7440 - val_loss: 255707048.5161 - val_mean_absolute_error: 11584.9822\n",
      "Epoch 44/50\n",
      " - 3s - loss: 257128501.0850 - mean_absolute_error: 12344.3417 - val_loss: 255674590.1935 - val_mean_absolute_error: 11583.5811\n",
      "Epoch 45/50\n",
      " - 2s - loss: 257093926.1862 - mean_absolute_error: 12342.9411 - val_loss: 255642163.3548 - val_mean_absolute_error: 11582.1812\n",
      "Epoch 46/50\n",
      " - 2s - loss: 257059404.0486 - mean_absolute_error: 12341.5426 - val_loss: 255609807.7419 - val_mean_absolute_error: 11580.7843\n",
      "Epoch 47/50\n",
      " - 2s - loss: 257024931.4008 - mean_absolute_error: 12340.1461 - val_loss: 255577488.5161 - val_mean_absolute_error: 11579.3882\n",
      "Epoch 48/50\n",
      " - 2s - loss: 256990495.4818 - mean_absolute_error: 12338.7508 - val_loss: 255545189.6774 - val_mean_absolute_error: 11577.9935\n",
      "Epoch 49/50\n",
      " - 3s - loss: 256956106.2672 - mean_absolute_error: 12337.3568 - val_loss: 255512926.1935 - val_mean_absolute_error: 11576.6011\n",
      "Epoch 50/50\n",
      " - 2s - loss: 256921739.7571 - mean_absolute_error: 12335.9641 - val_loss: 255480690.3226 - val_mean_absolute_error: 11575.2090\n"
     ]
    }
   ],
   "source": [
    "#fit network\n",
    "history = model.fit(x_train, y_train, \n",
    "                    epochs=50,\n",
    "                    batch_size=30,\n",
    "                    verbose=2, \n",
    "                    shuffle=False, \n",
    "                    validation_data=(x_valid, y_valid))"
   ]
  },
  {
   "cell_type": "code",
   "execution_count": 202,
   "metadata": {},
   "outputs": [
    {
     "data": {
      "image/png": "[encoded data removed]",
      "text/plain": [
       "<Figure size 432x288 with 1 Axes>"
      ]
     },
     "metadata": {
      "needs_background": "light"
     },
     "output_type": "display_data"
    }
   ],
   "source": [
    "# plot history of loss for train and valid sets \n",
    "# activation = linear, batch_size = 30 (30 is better than 100)\n",
    "pyplot.plot(history.history['loss'], label='train')\n",
    "pyplot.plot(history.history['val_loss'], label='valid')\n",
    "pyplot.title('model train vs validation loss')\n",
    "pyplot.ylabel('loss')\n",
    "pyplot.xlabel('epoch')\n",
    "pyplot.legend()\n",
    "pyplot.savefig(\"linear_activ.png\", bbox_inches='tight')\n",
    "pyplot.show()"
   ]
  },
  {
   "cell_type": "code",
   "execution_count": null,
   "metadata": {},
   "outputs": [],
   "source": []
  },
  {
   "cell_type": "code",
   "execution_count": null,
   "metadata": {},
   "outputs": [],
   "source": []
  },
  {
   "cell_type": "code",
   "execution_count": null,
   "metadata": {},
   "outputs": [],
   "source": []
  },
  {
   "cell_type": "code",
   "execution_count": null,
   "metadata": {},
   "outputs": [],
   "source": []
  },
  {
   "cell_type": "code",
   "execution_count": null,
   "metadata": {},
   "outputs": [],
   "source": []
  },
  {
   "cell_type": "code",
   "execution_count": null,
   "metadata": {},
   "outputs": [],
   "source": []
  },
  {
   "cell_type": "code",
   "execution_count": null,
   "metadata": {},
   "outputs": [],
   "source": []
  },
  {
   "cell_type": "code",
   "execution_count": null,
   "metadata": {},
   "outputs": [],
   "source": []
  },
  {
   "cell_type": "code",
   "execution_count": null,
   "metadata": {},
   "outputs": [],
   "source": []
  },
  {
   "cell_type": "code",
   "execution_count": null,
   "metadata": {},
   "outputs": [],
   "source": []
  },
  {
   "cell_type": "code",
   "execution_count": null,
   "metadata": {},
   "outputs": [],
   "source": []
  },
  {
   "cell_type": "code",
   "execution_count": null,
   "metadata": {},
   "outputs": [],
   "source": []
  },
  {
   "cell_type": "code",
   "execution_count": null,
   "metadata": {},
   "outputs": [],
   "source": []
  },
  {
   "cell_type": "code",
   "execution_count": null,
   "metadata": {},
   "outputs": [],
   "source": []
  },
  {
   "cell_type": "code",
   "execution_count": null,
   "metadata": {},
   "outputs": [],
   "source": []
  },
  {
   "cell_type": "code",
   "execution_count": null,
   "metadata": {},
   "outputs": [],
   "source": []
  },
  {
   "cell_type": "code",
   "execution_count": null,
   "metadata": {},
   "outputs": [],
   "source": []
  },
  {
   "cell_type": "code",
   "execution_count": null,
   "metadata": {},
   "outputs": [],
   "source": []
  },
  {
   "cell_type": "code",
   "execution_count": null,
   "metadata": {},
   "outputs": [],
   "source": []
  },
  {
   "cell_type": "code",
   "execution_count": null,
   "metadata": {},
   "outputs": [],
   "source": []
  },
  {
   "cell_type": "code",
   "execution_count": null,
   "metadata": {},
   "outputs": [],
   "source": []
  },
  {
   "cell_type": "code",
   "execution_count": null,
   "metadata": {},
   "outputs": [],
   "source": []
  },
  {
   "cell_type": "code",
   "execution_count": null,
   "metadata": {},
   "outputs": [],
   "source": []
  },
  {
   "cell_type": "code",
   "execution_count": null,
   "metadata": {},
   "outputs": [],
   "source": []
  },
  {
   "cell_type": "code",
   "execution_count": null,
   "metadata": {},
   "outputs": [],
   "source": []
  },
  {
   "cell_type": "code",
   "execution_count": null,
   "metadata": {},
   "outputs": [],
   "source": []
  },
  {
   "cell_type": "code",
   "execution_count": null,
   "metadata": {},
   "outputs": [],
   "source": []
  },
  {
   "cell_type": "code",
   "execution_count": null,
   "metadata": {},
   "outputs": [],
   "source": []
  },
  {
   "cell_type": "code",
   "execution_count": null,
   "metadata": {},
   "outputs": [],
   "source": []
  },
  {
   "cell_type": "code",
   "execution_count": null,
   "metadata": {},
   "outputs": [],
   "source": []
  },
  {
   "cell_type": "code",
   "execution_count": null,
   "metadata": {},
   "outputs": [],
   "source": []
  },
  {
   "cell_type": "code",
   "execution_count": null,
   "metadata": {},
   "outputs": [],
   "source": []
  },
  {
   "cell_type": "code",
   "execution_count": null,
   "metadata": {},
   "outputs": [],
   "source": []
  },
  {
   "cell_type": "code",
   "execution_count": null,
   "metadata": {},
   "outputs": [],
   "source": []
  },
  {
   "cell_type": "code",
   "execution_count": null,
   "metadata": {},
   "outputs": [],
   "source": []
  },
  {
   "cell_type": "code",
   "execution_count": null,
   "metadata": {},
   "outputs": [],
   "source": []
  },
  {
   "cell_type": "code",
   "execution_count": null,
   "metadata": {},
   "outputs": [],
   "source": []
  },
  {
   "cell_type": "code",
   "execution_count": null,
   "metadata": {},
   "outputs": [],
   "source": []
  },
  {
   "cell_type": "code",
   "execution_count": null,
   "metadata": {},
   "outputs": [],
   "source": []
  },
  {
   "cell_type": "code",
   "execution_count": null,
   "metadata": {},
   "outputs": [],
   "source": []
  },
  {
   "cell_type": "code",
   "execution_count": null,
   "metadata": {},
   "outputs": [],
   "source": []
  },
  {
   "cell_type": "code",
   "execution_count": null,
   "metadata": {},
   "outputs": [],
   "source": []
  },
  {
   "cell_type": "code",
   "execution_count": null,
   "metadata": {},
   "outputs": [],
   "source": []
  },
  {
   "cell_type": "code",
   "execution_count": null,
   "metadata": {},
   "outputs": [],
   "source": []
  },
  {
   "cell_type": "code",
   "execution_count": null,
   "metadata": {},
   "outputs": [],
   "source": []
  },
  {
   "cell_type": "code",
   "execution_count": null,
   "metadata": {},
   "outputs": [],
   "source": []
  },
  {
   "cell_type": "code",
   "execution_count": null,
   "metadata": {},
   "outputs": [],
   "source": []
  },
  {
   "cell_type": "code",
   "execution_count": null,
   "metadata": {},
   "outputs": [],
   "source": []
  },
  {
   "cell_type": "code",
   "execution_count": null,
   "metadata": {},
   "outputs": [],
   "source": []
  },
  {
   "cell_type": "code",
   "execution_count": null,
   "metadata": {},
   "outputs": [],
   "source": []
  },
  {
   "cell_type": "code",
   "execution_count": null,
   "metadata": {},
   "outputs": [],
   "source": []
  },
  {
   "cell_type": "code",
   "execution_count": null,
   "metadata": {},
   "outputs": [],
   "source": []
  },
  {
   "cell_type": "code",
   "execution_count": null,
   "metadata": {},
   "outputs": [],
   "source": []
  },
  {
   "cell_type": "code",
   "execution_count": null,
   "metadata": {},
   "outputs": [],
   "source": []
  },
  {
   "cell_type": "code",
   "execution_count": null,
   "metadata": {},
   "outputs": [],
   "source": []
  },
  {
   "cell_type": "code",
   "execution_count": null,
   "metadata": {},
   "outputs": [],
   "source": []
  },
  {
   "cell_type": "code",
   "execution_count": null,
   "metadata": {},
   "outputs": [],
   "source": []
  },
  {
   "cell_type": "code",
   "execution_count": null,
   "metadata": {},
   "outputs": [],
   "source": []
  },
  {
   "cell_type": "code",
   "execution_count": null,
   "metadata": {},
   "outputs": [],
   "source": []
  },
  {
   "cell_type": "code",
   "execution_count": null,
   "metadata": {},
   "outputs": [],
   "source": []
  },
  {
   "cell_type": "code",
   "execution_count": null,
   "metadata": {},
   "outputs": [],
   "source": []
  },
  {
   "cell_type": "code",
   "execution_count": null,
   "metadata": {},
   "outputs": [],
   "source": []
  },
  {
   "cell_type": "code",
   "execution_count": null,
   "metadata": {},
   "outputs": [],
   "source": []
  },
  {
   "cell_type": "code",
   "execution_count": null,
   "metadata": {},
   "outputs": [],
   "source": []
  },
  {
   "cell_type": "code",
   "execution_count": null,
   "metadata": {},
   "outputs": [],
   "source": []
  },
  {
   "cell_type": "code",
   "execution_count": null,
   "metadata": {},
   "outputs": [],
   "source": []
  },
  {
   "cell_type": "code",
   "execution_count": null,
   "metadata": {},
   "outputs": [],
   "source": []
  },
  {
   "cell_type": "code",
   "execution_count": null,
   "metadata": {},
   "outputs": [],
   "source": []
  },
  {
   "cell_type": "code",
   "execution_count": null,
   "metadata": {},
   "outputs": [],
   "source": []
  },
  {
   "cell_type": "code",
   "execution_count": null,
   "metadata": {},
   "outputs": [],
   "source": []
  },
  {
   "cell_type": "code",
   "execution_count": null,
   "metadata": {},
   "outputs": [],
   "source": []
  },
  {
   "cell_type": "code",
   "execution_count": null,
   "metadata": {},
   "outputs": [],
   "source": []
  },
  {
   "cell_type": "code",
   "execution_count": null,
   "metadata": {},
   "outputs": [],
   "source": []
  },
  {
   "cell_type": "code",
   "execution_count": null,
   "metadata": {},
   "outputs": [],
   "source": []
  },
  {
   "cell_type": "code",
   "execution_count": null,
   "metadata": {},
   "outputs": [],
   "source": []
  },
  {
   "cell_type": "code",
   "execution_count": null,
   "metadata": {},
   "outputs": [],
   "source": []
  },
  {
   "cell_type": "code",
   "execution_count": null,
   "metadata": {},
   "outputs": [],
   "source": []
  },
  {
   "cell_type": "code",
   "execution_count": null,
   "metadata": {},
   "outputs": [],
   "source": []
  },
  {
   "cell_type": "code",
   "execution_count": null,
   "metadata": {},
   "outputs": [],
   "source": []
  },
  {
   "cell_type": "code",
   "execution_count": null,
   "metadata": {},
   "outputs": [],
   "source": []
  },
  {
   "cell_type": "code",
   "execution_count": null,
   "metadata": {},
   "outputs": [],
   "source": []
  },
  {
   "cell_type": "code",
   "execution_count": null,
   "metadata": {},
   "outputs": [],
   "source": []
  },
  {
   "cell_type": "code",
   "execution_count": null,
   "metadata": {},
   "outputs": [],
   "source": []
  },
  {
   "cell_type": "code",
   "execution_count": null,
   "metadata": {},
   "outputs": [],
   "source": []
  },
  {
   "cell_type": "code",
   "execution_count": null,
   "metadata": {},
   "outputs": [],
   "source": []
  },
  {
   "cell_type": "code",
   "execution_count": null,
   "metadata": {},
   "outputs": [],
   "source": []
  },
  {
   "cell_type": "code",
   "execution_count": null,
   "metadata": {},
   "outputs": [],
   "source": []
  },
  {
   "cell_type": "code",
   "execution_count": null,
   "metadata": {},
   "outputs": [],
   "source": []
  },
  {
   "cell_type": "code",
   "execution_count": null,
   "metadata": {},
   "outputs": [],
   "source": []
  },
  {
   "cell_type": "code",
   "execution_count": null,
   "metadata": {},
   "outputs": [],
   "source": []
  },
  {
   "cell_type": "code",
   "execution_count": null,
   "metadata": {},
   "outputs": [],
   "source": []
  },
  {
   "cell_type": "code",
   "execution_count": null,
   "metadata": {},
   "outputs": [],
   "source": []
  },
  {
   "cell_type": "code",
   "execution_count": null,
   "metadata": {},
   "outputs": [],
   "source": []
  },
  {
   "cell_type": "code",
   "execution_count": null,
   "metadata": {},
   "outputs": [],
   "source": []
  },
  {
   "cell_type": "code",
   "execution_count": null,
   "metadata": {},
   "outputs": [],
   "source": []
  },
  {
   "cell_type": "code",
   "execution_count": null,
   "metadata": {},
   "outputs": [],
   "source": []
  },
  {
   "cell_type": "code",
   "execution_count": null,
   "metadata": {},
   "outputs": [],
   "source": []
  },
  {
   "cell_type": "code",
   "execution_count": null,
   "metadata": {},
   "outputs": [],
   "source": []
  },
  {
   "cell_type": "code",
   "execution_count": null,
   "metadata": {},
   "outputs": [],
   "source": []
  },
  {
   "cell_type": "code",
   "execution_count": null,
   "metadata": {},
   "outputs": [],
   "source": []
  },
  {
   "cell_type": "code",
   "execution_count": null,
   "metadata": {},
   "outputs": [],
   "source": []
  },
  {
   "cell_type": "code",
   "execution_count": null,
   "metadata": {},
   "outputs": [],
   "source": []
  },
  {
   "cell_type": "code",
   "execution_count": null,
   "metadata": {},
   "outputs": [],
   "source": []
  },
  {
   "cell_type": "code",
   "execution_count": null,
   "metadata": {},
   "outputs": [],
   "source": []
  },
  {
   "cell_type": "code",
   "execution_count": null,
   "metadata": {},
   "outputs": [],
   "source": []
  },
  {
   "cell_type": "code",
   "execution_count": null,
   "metadata": {},
   "outputs": [],
   "source": []
  },
  {
   "cell_type": "code",
   "execution_count": null,
   "metadata": {},
   "outputs": [],
   "source": []
  },
  {
   "cell_type": "code",
   "execution_count": null,
   "metadata": {},
   "outputs": [],
   "source": []
  },
  {
   "cell_type": "code",
   "execution_count": null,
   "metadata": {},
   "outputs": [],
   "source": []
  },
  {
   "cell_type": "code",
   "execution_count": null,
   "metadata": {},
   "outputs": [],
   "source": []
  },
  {
   "cell_type": "code",
   "execution_count": null,
   "metadata": {},
   "outputs": [],
   "source": []
  },
  {
   "cell_type": "code",
   "execution_count": null,
   "metadata": {},
   "outputs": [],
   "source": []
  },
  {
   "cell_type": "code",
   "execution_count": null,
   "metadata": {},
   "outputs": [],
   "source": []
  },
  {
   "cell_type": "code",
   "execution_count": null,
   "metadata": {},
   "outputs": [],
   "source": []
  },
  {
   "cell_type": "code",
   "execution_count": null,
   "metadata": {},
   "outputs": [],
   "source": []
  },
  {
   "cell_type": "code",
   "execution_count": null,
   "metadata": {},
   "outputs": [],
   "source": []
  },
  {
   "cell_type": "code",
   "execution_count": null,
   "metadata": {},
   "outputs": [],
   "source": []
  },
  {
   "cell_type": "code",
   "execution_count": null,
   "metadata": {},
   "outputs": [],
   "source": []
  },
  {
   "cell_type": "code",
   "execution_count": null,
   "metadata": {},
   "outputs": [],
   "source": []
  },
  {
   "cell_type": "code",
   "execution_count": null,
   "metadata": {},
   "outputs": [],
   "source": []
  },
  {
   "cell_type": "code",
   "execution_count": null,
   "metadata": {},
   "outputs": [],
   "source": []
  },
  {
   "cell_type": "code",
   "execution_count": null,
   "metadata": {},
   "outputs": [],
   "source": []
  },
  {
   "cell_type": "code",
   "execution_count": null,
   "metadata": {},
   "outputs": [],
   "source": []
  },
  {
   "cell_type": "code",
   "execution_count": null,
   "metadata": {},
   "outputs": [],
   "source": []
  },
  {
   "cell_type": "code",
   "execution_count": null,
   "metadata": {},
   "outputs": [],
   "source": []
  },
  {
   "cell_type": "code",
   "execution_count": null,
   "metadata": {},
   "outputs": [],
   "source": []
  },
  {
   "cell_type": "code",
   "execution_count": null,
   "metadata": {},
   "outputs": [],
   "source": []
  },
  {
   "cell_type": "code",
   "execution_count": null,
   "metadata": {},
   "outputs": [],
   "source": []
  },
  {
   "cell_type": "code",
   "execution_count": null,
   "metadata": {},
   "outputs": [],
   "source": []
  },
  {
   "cell_type": "code",
   "execution_count": null,
   "metadata": {},
   "outputs": [],
   "source": []
  },
  {
   "cell_type": "code",
   "execution_count": null,
   "metadata": {},
   "outputs": [],
   "source": []
  },
  {
   "cell_type": "code",
   "execution_count": null,
   "metadata": {},
   "outputs": [],
   "source": []
  },
  {
   "cell_type": "code",
   "execution_count": null,
   "metadata": {},
   "outputs": [],
   "source": []
  },
  {
   "cell_type": "code",
   "execution_count": null,
   "metadata": {},
   "outputs": [],
   "source": []
  },
  {
   "cell_type": "code",
   "execution_count": null,
   "metadata": {},
   "outputs": [],
   "source": []
  },
  {
   "cell_type": "code",
   "execution_count": null,
   "metadata": {},
   "outputs": [],
   "source": []
  }
 ],
 "metadata": {
  "kernelspec": {
   "display_name": "Python 3",
   "language": "python",
   "name": "python3"
  },
  "language_info": {
   "codemirror_mode": {
    "name": "ipython",
    "version": 3
   },
   "file_extension": ".py",
   "mimetype": "text/x-python",
   "name": "python",
   "nbconvert_exporter": "python",
   "pygments_lexer": "ipython3",
   "version": "3.7.3"
  }
 },
 "nbformat": 4,
 "nbformat_minor": 2
}
